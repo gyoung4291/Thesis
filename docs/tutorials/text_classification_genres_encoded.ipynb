{
  "cells": [
    {
      "cell_type": "markdown",
      "metadata": {
        "id": "9TnJztDZGw-n"
      },
      "source": [
        "# Text classification with an RNN"
      ]
    },
    {
      "cell_type": "markdown",
      "metadata": {
        "id": "AfN3bMR5Gw-o"
      },
      "source": [
        "<table class=\"tfo-notebook-buttons\" align=\"left\">\n",
        "  <td>\n",
        "    <a target=\"_blank\" href=\"https://www.tensorflow.org/text/tutorials/text_classification_rnn\"><img src=\"https://www.tensorflow.org/images/tf_logo_32px.png\" />View on TensorFlow.org</a>\n",
        "  </td>\n",
        "  <td>\n",
        "    <a target=\"_blank\" href=\"https://colab.research.google.com/github/tensorflow/text/blob/master/docs/tutorials/text_classification_rnn.ipynb\"><img src=\"https://www.tensorflow.org/images/colab_logo_32px.png\" />Run in Google Colab</a>\n",
        "  </td>\n",
        "  <td>\n",
        "    <a target=\"_blank\" href=\"https://github.com/tensorflow/text/blob/master/docs/tutorials/text_classification_rnn.ipynb\"><img src=\"https://www.tensorflow.org/images/GitHub-Mark-32px.png\" />View source on GitHub</a>\n",
        "  </td>\n",
        "  <td>\n",
        "    <a href=\"https://storage.googleapis.com/tensorflow_docs/text/docs/tutorials/text_classification_rnn.ipynb\"><img src=\"https://www.tensorflow.org/images/download_logo_32px.png\" />Download notebook</a>\n",
        "  </td>\n",
        "</table>"
      ]
    },
    {
      "cell_type": "markdown",
      "metadata": {
        "id": "_2VQo4bajwUU"
      },
      "source": [
        "## Setup"
      ]
    },
    {
      "cell_type": "code",
      "execution_count": 1,
      "metadata": {
        "id": "z682XYsrjkY9"
      },
      "outputs": [],
      "source": [
        "#Imports\n",
        "import numpy as np\n",
        "\n",
        "import tensorflow_datasets as tfds\n",
        "import tensorflow as tf\n",
        "import matplotlib.pyplot as plt\n",
        "import pandas as pd"
      ]
    },
    {
      "cell_type": "markdown",
      "metadata": {
        "id": "1rXHa-w9JZhb"
      },
      "source": [
        "Import `matplotlib` and create a helper function to plot graphs:"
      ]
    },
    {
      "cell_type": "code",
      "execution_count": 2,
      "metadata": {
        "id": "Mp1Z7P9pYRSK"
      },
      "outputs": [],
      "source": [
        "#other setup\n",
        "tfds.disable_progress_bar()\n",
        "def plot_graphs(history, metric):\n",
        "  plt.plot(history.history[metric])\n",
        "  plt.plot(history.history['val_'+metric], '')\n",
        "  plt.xlabel(\"Epochs\")\n",
        "  plt.ylabel(metric)\n",
        "  plt.legend([metric, 'val_'+metric])"
      ]
    },
    {
      "cell_type": "markdown",
      "metadata": {
        "id": "pRmMubr0jrE2"
      },
      "source": [
        "## Setup input pipeline\n",
        "\n",
        "\n",
        "The steam reviews data used initially here is a *binary classification* dataset—all the reviews have either a *positive* or *negative* sentiment."
      ]
    },
    {
      "cell_type": "code",
      "execution_count": 3,
      "metadata": {
        "id": "SHRwRoP2nVHX",
        "colab": {
          "base_uri": "https://localhost:8080/",
          "height": 362
        },
        "outputId": "99982732-5188-4e45-9bc5-291c1a7cd6ae"
      },
      "outputs": [
        {
          "output_type": "stream",
          "name": "stdout",
          "text": [
            "(6201, 31)\n",
            "Index(['Unnamed: 0', 'AppID', 'reviews', 'Genres', 'Tags', 'Price',\n",
            "       'Estimated.owners', 'Indie', 'Strategy', 'Action', 'Casual',\n",
            "       'Simulation', 'Sports', 'Adventure', 'Early_Access', 'Utilities', 'RPG',\n",
            "       'Massively_Multiplayer', 'Free_To_Play', 'Racing', 'Violent', 'Gore',\n",
            "       'Animation_and_Modeling', 'Design_and_Illustration', 'Video_Production',\n",
            "       'Nudity', 'Sexual_Content', 'Software_Training', 'Education',\n",
            "       'Game_Development', 'Audio_Production'],\n",
            "      dtype='object')\n"
          ]
        },
        {
          "output_type": "execute_result",
          "data": {
            "text/plain": [
              "                                                reviews  Indie  Casual  \\\n",
              "2036  This game is broken.\\r\\n\\r\\nIt isn't possible ...      1       0   \n",
              "572   HORRIBLE GAME definetly not worth buying there...      1       0   \n",
              "2570  Surprisingly I enjoy it despite the mixed gene...      0       0   \n",
              "5776  I thought i'd give it a go because its hard to...      1       0   \n",
              "4737  I will admit that I enjoyed The Fox’s Trail a ...      0       0   \n",
              "\n",
              "      Adventure  \n",
              "2036          1  \n",
              "572           0  \n",
              "2570          1  \n",
              "5776          0  \n",
              "4737          1  "
            ],
            "text/html": [
              "\n",
              "  <div id=\"df-efd748b7-4fec-4be8-b039-b7bc20128d64\" class=\"colab-df-container\">\n",
              "    <div>\n",
              "<style scoped>\n",
              "    .dataframe tbody tr th:only-of-type {\n",
              "        vertical-align: middle;\n",
              "    }\n",
              "\n",
              "    .dataframe tbody tr th {\n",
              "        vertical-align: top;\n",
              "    }\n",
              "\n",
              "    .dataframe thead th {\n",
              "        text-align: right;\n",
              "    }\n",
              "</style>\n",
              "<table border=\"1\" class=\"dataframe\">\n",
              "  <thead>\n",
              "    <tr style=\"text-align: right;\">\n",
              "      <th></th>\n",
              "      <th>reviews</th>\n",
              "      <th>Indie</th>\n",
              "      <th>Casual</th>\n",
              "      <th>Adventure</th>\n",
              "    </tr>\n",
              "  </thead>\n",
              "  <tbody>\n",
              "    <tr>\n",
              "      <th>2036</th>\n",
              "      <td>This game is broken.\\r\\n\\r\\nIt isn't possible ...</td>\n",
              "      <td>1</td>\n",
              "      <td>0</td>\n",
              "      <td>1</td>\n",
              "    </tr>\n",
              "    <tr>\n",
              "      <th>572</th>\n",
              "      <td>HORRIBLE GAME definetly not worth buying there...</td>\n",
              "      <td>1</td>\n",
              "      <td>0</td>\n",
              "      <td>0</td>\n",
              "    </tr>\n",
              "    <tr>\n",
              "      <th>2570</th>\n",
              "      <td>Surprisingly I enjoy it despite the mixed gene...</td>\n",
              "      <td>0</td>\n",
              "      <td>0</td>\n",
              "      <td>1</td>\n",
              "    </tr>\n",
              "    <tr>\n",
              "      <th>5776</th>\n",
              "      <td>I thought i'd give it a go because its hard to...</td>\n",
              "      <td>1</td>\n",
              "      <td>0</td>\n",
              "      <td>0</td>\n",
              "    </tr>\n",
              "    <tr>\n",
              "      <th>4737</th>\n",
              "      <td>I will admit that I enjoyed The Fox’s Trail a ...</td>\n",
              "      <td>0</td>\n",
              "      <td>0</td>\n",
              "      <td>1</td>\n",
              "    </tr>\n",
              "  </tbody>\n",
              "</table>\n",
              "</div>\n",
              "    <div class=\"colab-df-buttons\">\n",
              "\n",
              "  <div class=\"colab-df-container\">\n",
              "    <button class=\"colab-df-convert\" onclick=\"convertToInteractive('df-efd748b7-4fec-4be8-b039-b7bc20128d64')\"\n",
              "            title=\"Convert this dataframe to an interactive table.\"\n",
              "            style=\"display:none;\">\n",
              "\n",
              "  <svg xmlns=\"http://www.w3.org/2000/svg\" height=\"24px\" viewBox=\"0 -960 960 960\">\n",
              "    <path d=\"M120-120v-720h720v720H120Zm60-500h600v-160H180v160Zm220 220h160v-160H400v160Zm0 220h160v-160H400v160ZM180-400h160v-160H180v160Zm440 0h160v-160H620v160ZM180-180h160v-160H180v160Zm440 0h160v-160H620v160Z\"/>\n",
              "  </svg>\n",
              "    </button>\n",
              "\n",
              "  <style>\n",
              "    .colab-df-container {\n",
              "      display:flex;\n",
              "      gap: 12px;\n",
              "    }\n",
              "\n",
              "    .colab-df-convert {\n",
              "      background-color: #E8F0FE;\n",
              "      border: none;\n",
              "      border-radius: 50%;\n",
              "      cursor: pointer;\n",
              "      display: none;\n",
              "      fill: #1967D2;\n",
              "      height: 32px;\n",
              "      padding: 0 0 0 0;\n",
              "      width: 32px;\n",
              "    }\n",
              "\n",
              "    .colab-df-convert:hover {\n",
              "      background-color: #E2EBFA;\n",
              "      box-shadow: 0px 1px 2px rgba(60, 64, 67, 0.3), 0px 1px 3px 1px rgba(60, 64, 67, 0.15);\n",
              "      fill: #174EA6;\n",
              "    }\n",
              "\n",
              "    .colab-df-buttons div {\n",
              "      margin-bottom: 4px;\n",
              "    }\n",
              "\n",
              "    [theme=dark] .colab-df-convert {\n",
              "      background-color: #3B4455;\n",
              "      fill: #D2E3FC;\n",
              "    }\n",
              "\n",
              "    [theme=dark] .colab-df-convert:hover {\n",
              "      background-color: #434B5C;\n",
              "      box-shadow: 0px 1px 3px 1px rgba(0, 0, 0, 0.15);\n",
              "      filter: drop-shadow(0px 1px 2px rgba(0, 0, 0, 0.3));\n",
              "      fill: #FFFFFF;\n",
              "    }\n",
              "  </style>\n",
              "\n",
              "    <script>\n",
              "      const buttonEl =\n",
              "        document.querySelector('#df-efd748b7-4fec-4be8-b039-b7bc20128d64 button.colab-df-convert');\n",
              "      buttonEl.style.display =\n",
              "        google.colab.kernel.accessAllowed ? 'block' : 'none';\n",
              "\n",
              "      async function convertToInteractive(key) {\n",
              "        const element = document.querySelector('#df-efd748b7-4fec-4be8-b039-b7bc20128d64');\n",
              "        const dataTable =\n",
              "          await google.colab.kernel.invokeFunction('convertToInteractive',\n",
              "                                                    [key], {});\n",
              "        if (!dataTable) return;\n",
              "\n",
              "        const docLinkHtml = 'Like what you see? Visit the ' +\n",
              "          '<a target=\"_blank\" href=https://colab.research.google.com/notebooks/data_table.ipynb>data table notebook</a>'\n",
              "          + ' to learn more about interactive tables.';\n",
              "        element.innerHTML = '';\n",
              "        dataTable['output_type'] = 'display_data';\n",
              "        await google.colab.output.renderOutput(dataTable, element);\n",
              "        const docLink = document.createElement('div');\n",
              "        docLink.innerHTML = docLinkHtml;\n",
              "        element.appendChild(docLink);\n",
              "      }\n",
              "    </script>\n",
              "  </div>\n",
              "\n",
              "\n",
              "    <div id=\"df-2d9b13f2-8d98-4f7b-9273-c895d95cc9dc\">\n",
              "      <button class=\"colab-df-quickchart\" onclick=\"quickchart('df-2d9b13f2-8d98-4f7b-9273-c895d95cc9dc')\"\n",
              "                title=\"Suggest charts\"\n",
              "                style=\"display:none;\">\n",
              "\n",
              "<svg xmlns=\"http://www.w3.org/2000/svg\" height=\"24px\"viewBox=\"0 0 24 24\"\n",
              "     width=\"24px\">\n",
              "    <g>\n",
              "        <path d=\"M19 3H5c-1.1 0-2 .9-2 2v14c0 1.1.9 2 2 2h14c1.1 0 2-.9 2-2V5c0-1.1-.9-2-2-2zM9 17H7v-7h2v7zm4 0h-2V7h2v10zm4 0h-2v-4h2v4z\"/>\n",
              "    </g>\n",
              "</svg>\n",
              "      </button>\n",
              "\n",
              "<style>\n",
              "  .colab-df-quickchart {\n",
              "      --bg-color: #E8F0FE;\n",
              "      --fill-color: #1967D2;\n",
              "      --hover-bg-color: #E2EBFA;\n",
              "      --hover-fill-color: #174EA6;\n",
              "      --disabled-fill-color: #AAA;\n",
              "      --disabled-bg-color: #DDD;\n",
              "  }\n",
              "\n",
              "  [theme=dark] .colab-df-quickchart {\n",
              "      --bg-color: #3B4455;\n",
              "      --fill-color: #D2E3FC;\n",
              "      --hover-bg-color: #434B5C;\n",
              "      --hover-fill-color: #FFFFFF;\n",
              "      --disabled-bg-color: #3B4455;\n",
              "      --disabled-fill-color: #666;\n",
              "  }\n",
              "\n",
              "  .colab-df-quickchart {\n",
              "    background-color: var(--bg-color);\n",
              "    border: none;\n",
              "    border-radius: 50%;\n",
              "    cursor: pointer;\n",
              "    display: none;\n",
              "    fill: var(--fill-color);\n",
              "    height: 32px;\n",
              "    padding: 0;\n",
              "    width: 32px;\n",
              "  }\n",
              "\n",
              "  .colab-df-quickchart:hover {\n",
              "    background-color: var(--hover-bg-color);\n",
              "    box-shadow: 0 1px 2px rgba(60, 64, 67, 0.3), 0 1px 3px 1px rgba(60, 64, 67, 0.15);\n",
              "    fill: var(--button-hover-fill-color);\n",
              "  }\n",
              "\n",
              "  .colab-df-quickchart-complete:disabled,\n",
              "  .colab-df-quickchart-complete:disabled:hover {\n",
              "    background-color: var(--disabled-bg-color);\n",
              "    fill: var(--disabled-fill-color);\n",
              "    box-shadow: none;\n",
              "  }\n",
              "\n",
              "  .colab-df-spinner {\n",
              "    border: 2px solid var(--fill-color);\n",
              "    border-color: transparent;\n",
              "    border-bottom-color: var(--fill-color);\n",
              "    animation:\n",
              "      spin 1s steps(1) infinite;\n",
              "  }\n",
              "\n",
              "  @keyframes spin {\n",
              "    0% {\n",
              "      border-color: transparent;\n",
              "      border-bottom-color: var(--fill-color);\n",
              "      border-left-color: var(--fill-color);\n",
              "    }\n",
              "    20% {\n",
              "      border-color: transparent;\n",
              "      border-left-color: var(--fill-color);\n",
              "      border-top-color: var(--fill-color);\n",
              "    }\n",
              "    30% {\n",
              "      border-color: transparent;\n",
              "      border-left-color: var(--fill-color);\n",
              "      border-top-color: var(--fill-color);\n",
              "      border-right-color: var(--fill-color);\n",
              "    }\n",
              "    40% {\n",
              "      border-color: transparent;\n",
              "      border-right-color: var(--fill-color);\n",
              "      border-top-color: var(--fill-color);\n",
              "    }\n",
              "    60% {\n",
              "      border-color: transparent;\n",
              "      border-right-color: var(--fill-color);\n",
              "    }\n",
              "    80% {\n",
              "      border-color: transparent;\n",
              "      border-right-color: var(--fill-color);\n",
              "      border-bottom-color: var(--fill-color);\n",
              "    }\n",
              "    90% {\n",
              "      border-color: transparent;\n",
              "      border-bottom-color: var(--fill-color);\n",
              "    }\n",
              "  }\n",
              "</style>\n",
              "\n",
              "      <script>\n",
              "        async function quickchart(key) {\n",
              "          const quickchartButtonEl =\n",
              "            document.querySelector('#' + key + ' button');\n",
              "          quickchartButtonEl.disabled = true;  // To prevent multiple clicks.\n",
              "          quickchartButtonEl.classList.add('colab-df-spinner');\n",
              "          try {\n",
              "            const charts = await google.colab.kernel.invokeFunction(\n",
              "                'suggestCharts', [key], {});\n",
              "          } catch (error) {\n",
              "            console.error('Error during call to suggestCharts:', error);\n",
              "          }\n",
              "          quickchartButtonEl.classList.remove('colab-df-spinner');\n",
              "          quickchartButtonEl.classList.add('colab-df-quickchart-complete');\n",
              "        }\n",
              "        (() => {\n",
              "          let quickchartButtonEl =\n",
              "            document.querySelector('#df-2d9b13f2-8d98-4f7b-9273-c895d95cc9dc button');\n",
              "          quickchartButtonEl.style.display =\n",
              "            google.colab.kernel.accessAllowed ? 'block' : 'none';\n",
              "        })();\n",
              "      </script>\n",
              "    </div>\n",
              "\n",
              "    </div>\n",
              "  </div>\n"
            ],
            "application/vnd.google.colaboratory.intrinsic+json": {
              "type": "dataframe",
              "variable_name": "train_dataset",
              "summary": "{\n  \"name\": \"train_dataset\",\n  \"rows\": 6201,\n  \"fields\": [\n    {\n      \"column\": \"reviews\",\n      \"properties\": {\n        \"dtype\": \"string\",\n        \"num_unique_values\": 6163,\n        \"samples\": [\n          \"An easy puzzle game where you drag pictures onto a grid to form the full picture to progress, would recommend on sale\",\n          \"Fracked, developed and published by nDreams, is an adrenaline-fueled virtual reality experience that expertly combines intense first-person shooting with innovative movement mechanics, including skiing, climbing, and ziplining. From the moment you step into its snowy mountain setting, the game offers a fast-paced, physically engaging adventure that pushes the boundaries of VR gameplay. The player takes on the role of an unlikely hero battling an onslaught of interdimensional foes known as the \\u201cFracked,\\u201d which serves as the driving force behind the game\\u2019s relentless action sequences. While the story itself is fairly straightforward and primarily serves to propel you through the game\\u2019s various set pieces, it provides just enough context to keep the momentum going without slowing down the pace.\\r\\n\\r\\nOne of the most impressive aspects of Fracked is its fluid and intuitive combat system. The game features a unique, fully interactive gunplay mechanic that allows for true 1:1 movement with weapons and a clever cover system that players can physically grab and move around with. This creates a level of immersion rarely seen in VR shooters, as you\\u2019re encouraged to think tactically\\u2014ducking behind cover, flanking enemies, and making use of a versatile arsenal of firearms. The combat feels natural and responsive, allowing for frantic firefights that never feel repetitive or stale. Coupled with this, the game\\u2019s enemies are varied and aggressive, requiring quick reflexes and strategic use of the environment to overcome.\\r\\n\\r\\nMovement in Fracked is where the game truly shines, setting it apart from many other VR shooters. The seamless integration of skiing down mountainsides, climbing walls, and ziplining through treacherous terrain adds a kinetic energy that keeps the experience fresh and exhilarating. The transitions between these movement types feel smooth and intuitive, allowing players to fully immerse themselves in the game\\u2019s dynamic world. This focus on physicality makes Fracked not just a test of shooting skills but also of spatial awareness and reflexes, demanding players stay physically engaged throughout their journey. It\\u2019s a thrilling blend of freedom and control that makes traversing the game\\u2019s environments as enjoyable as the combat itself.\\r\\n\\r\\nVisually, Fracked embraces a stylized art style that complements its high-energy gameplay. The environments range from pristine, snow-covered mountain landscapes to futuristic military installations, each crafted with an attention to detail that enhances immersion. The use of vibrant colors, dynamic lighting, and atmospheric effects helps establish a world that feels alive despite its post-apocalyptic setting. These visual elements, combined with the smooth frame rates and solid performance typical of nDreams\\u2019 VR titles, contribute to a comfortable and engaging experience that rarely breaks the sense of presence. However, some players might find that the art style leans more toward stylized aesthetics rather than photorealism, which may be a matter of personal preference.\\r\\n\\r\\nWhile Fracked excels in many areas, it is worth noting that its campaign is relatively brief, with most players completing the core experience within four to six hours. For those seeking a longer narrative or deeper story development, this may feel somewhat limited. The game\\u2019s plot focuses primarily on action and spectacle, with minimal character development or complex storytelling. This design choice keeps the focus firmly on gameplay but might leave players craving more in terms of narrative depth. Additionally, while the gameplay mechanics are polished, a few minor technical issues and occasional pacing quirks have been reported, though these are generally overshadowed by the game\\u2019s strengths.\\r\\n\\r\\nOverall, Fracked delivers a compelling and energetic VR adventure that leverages its unique combination of shooting and movement mechanics to create an engaging and memorable experience. Its high-octane gameplay, immersive environments, and intuitive controls make it a standout title for VR enthusiasts looking for something beyond traditional shooters. While the story and campaign length may not satisfy everyone, the core gameplay loop provides plenty of thrills and challenges, making it well worth exploring for anyone who enjoys physically active and fast-paced VR games. Fracked is a testament to how VR can elevate action gaming by blending physicality with intense combat in a beautifully crafted world.\\r\\n\\r\\nRating: 6/10|;|Was a fun, albeit repetitive 2.5hrs. You'll be one handing a few different weapons but mostly an SMG. All the enemies fight the same tho they introduce a mini-boss like heavy part-way thru. Checkpoint system can be infuriating, especially on the final act. Your hurtbox gets EXTRA wonky if you play in a large playspace because the game tracks your position in the world relative to a circle that's suppose to be underneath you. If you move too far away, you might take phantom damage - especially terrible once the game introduces explosives.\\r\\n\\r\\nStill, if the trailer looks fun, I recommend this game! Def get it on sale, this could have been beat in 1.5hr if I didn't have such a hard time with the ending (because of the problems mentioned above)|;|Fracked, developed and published by nDreams, is an adrenaline-fueled virtual reality experience that expertly combines intense first-person shooting with innovative movement mechanics, including skiing, climbing, and ziplining. From the moment you step into its snowy mountain setting, the game offers a fast-paced, physically engaging adventure that pushes the boundaries of VR gameplay. The player takes on the role of an unlikely hero battling an onslaught of interdimensional foes known as the \\u201cFracked,\\u201d which serves as the driving force behind the game\\u2019s relentless action sequences. While the story itself is fairly straightforward and primarily serves to propel you through the game\\u2019s various set pieces, it provides just enough context to keep the momentum going without slowing down the pace.\\r\\n\\r\\nOne of the most impressive aspects of Fracked is its fluid and intuitive combat system. The game features a unique, fully interactive gunplay mechanic that allows for true 1:1 movement with weapons and a clever cover system that players can physically grab and move around with. This creates a level of immersion rarely seen in VR shooters, as you\\u2019re encouraged to think tactically\\u2014ducking behind cover, flanking enemies, and making use of a versatile arsenal of firearms. The combat feels natural and responsive, allowing for frantic firefights that never feel repetitive or stale. Coupled with this, the game\\u2019s enemies are varied and aggressive, requiring quick reflexes and strategic use of the environment to overcome.\\r\\n\\r\\nMovement in Fracked is where the game truly shines, setting it apart from many other VR shooters. The seamless integration of skiing down mountainsides, climbing walls, and ziplining through treacherous terrain adds a kinetic energy that keeps the experience fresh and exhilarating. The transitions between these movement types feel smooth and intuitive, allowing players to fully immerse themselves in the game\\u2019s dynamic world. This focus on physicality makes Fracked not just a test of shooting skills but also of spatial awareness and reflexes, demanding players stay physically engaged throughout their journey. It\\u2019s a thrilling blend of freedom and control that makes traversing the game\\u2019s environments as enjoyable as the combat itself.\\r\\n\\r\\nVisually, Fracked embraces a stylized art style that complements its high-energy gameplay. The environments range from pristine, snow-covered mountain landscapes to futuristic military installations, each crafted with an attention to detail that enhances immersion. The use of vibrant colors, dynamic lighting, and atmospheric effects helps establish a world that feels alive despite its post-apocalyptic setting. These visual elements, combined with the smooth frame rates and solid performance typical of nDreams\\u2019 VR titles, contribute to a comfortable and engaging experience that rarely breaks the sense of presence. However, some players might find that the art style leans more toward stylized aesthetics rather than photorealism, which may be a matter of personal preference.\\r\\n\\r\\nWhile Fracked excels in many areas, it is worth noting that its campaign is relatively brief, with most players completing the core experience within four to six hours. For those seeking a longer narrative or deeper story development, this may feel somewhat limited. The game\\u2019s plot focuses primarily on action and spectacle, with minimal character development or complex storytelling. This design choice keeps the focus firmly on gameplay but might leave players craving more in terms of narrative depth. Additionally, while the gameplay mechanics are polished, a few minor technical issues and occasional pacing quirks have been reported, though these are generally overshadowed by the game\\u2019s strengths.\\r\\n\\r\\nOverall, Fracked delivers a compelling and energetic VR adventure that leverages its unique combination of shooting and movement mechanics to create an engaging and memorable experience. Its high-octane gameplay, immersive environments, and intuitive controls make it a standout title for VR enthusiasts looking for something beyond traditional shooters. While the story and campaign length may not satisfy everyone, the core gameplay loop provides plenty of thrills and challenges, making it well worth exploring for anyone who enjoys physically active and fast-paced VR games. Fracked is a testament to how VR can elevate action gaming by blending physicality with intense combat in a beautifully crafted world.\\r\\n\\r\\nRating: 6/10|;|Bloody marvellous\",\n          \"From watching the videos I had high hopes. And they were dashed quite expertly. The one view is just a literal wtf. No tutorial, no list of keys that I could find. I'll try it again in 6 months.|;|Other than some bugs everything else r very good\"\n        ],\n        \"semantic_type\": \"\",\n        \"description\": \"\"\n      }\n    },\n    {\n      \"column\": \"Indie\",\n      \"properties\": {\n        \"dtype\": \"number\",\n        \"std\": 0,\n        \"min\": 0,\n        \"max\": 1,\n        \"num_unique_values\": 2,\n        \"samples\": [\n          0,\n          1\n        ],\n        \"semantic_type\": \"\",\n        \"description\": \"\"\n      }\n    },\n    {\n      \"column\": \"Casual\",\n      \"properties\": {\n        \"dtype\": \"number\",\n        \"std\": 0,\n        \"min\": 0,\n        \"max\": 1,\n        \"num_unique_values\": 2,\n        \"samples\": [\n          1,\n          0\n        ],\n        \"semantic_type\": \"\",\n        \"description\": \"\"\n      }\n    },\n    {\n      \"column\": \"Adventure\",\n      \"properties\": {\n        \"dtype\": \"number\",\n        \"std\": 0,\n        \"min\": 0,\n        \"max\": 1,\n        \"num_unique_values\": 2,\n        \"samples\": [\n          0,\n          1\n        ],\n        \"semantic_type\": \"\",\n        \"description\": \"\"\n      }\n    }\n  ]\n}"
            }
          },
          "metadata": {},
          "execution_count": 3
        }
      ],
      "source": [
        "dataset = pd.read_csv('games_reviews_genres_encoded.csv')\n",
        "#sample from dataset for ease of use\n",
        "#  dataset = dataset.sample(frac=0.1, random_state=0)\n",
        "dataset['Indie'] = dataset['Indie'].astype(int)\n",
        "dataset['Utilities'] = dataset['Utilities'].astype(int)\n",
        "dataset['Sports'] = dataset['Sports'].astype(int)\n",
        "dataset['Massively_Multiplayer'] = dataset['Massively_Multiplayer'].astype(int)\n",
        "dataset['Sexual_Content'] = dataset['Sexual_Content'].astype(int)\n",
        "dataset['Casual'] = dataset['Casual'].astype(int)\n",
        "dataset['Simulation'] = dataset['Simulation'].astype(int)\n",
        "dataset['Adventure'] = dataset['Adventure'].astype(int)\n",
        "dataset['reviews'] = dataset['reviews'].astype(str)\n",
        "train_dataset = dataset.sample(frac=0.8, random_state=0)\n",
        "test_dataset = dataset.drop(train_dataset.index)\n",
        "print(train_dataset.shape)\n",
        "print(train_dataset.columns)\n",
        "#only need the review and the classification for now\n",
        "train_dataset = train_dataset[['reviews', 'Indie', 'Casual', 'Adventure']]\n",
        "test_dataset = test_dataset[['reviews', 'Indie', 'Casual', 'Adventure']]\n",
        "train_dataset.head()"
      ]
    },
    {
      "cell_type": "code",
      "source": [
        "#convert to tfds\n",
        "tf_train_dataset = tf.data.Dataset.from_tensor_slices(dict(train_dataset))\n",
        "#tf_train_dataset = tf.convert_to_tensor(train_dataset)\n",
        "tf_test_dataset = tf.data.Dataset.from_tensor_slices(dict(train_dataset))\n",
        "tf_train_dataset.element_spec"
      ],
      "metadata": {
        "colab": {
          "base_uri": "https://localhost:8080/"
        },
        "id": "qdBnraarvjPX",
        "outputId": "26fe48d7-9db5-4e8a-e5c2-a635e8efe67d"
      },
      "execution_count": 4,
      "outputs": [
        {
          "output_type": "execute_result",
          "data": {
            "text/plain": [
              "{'reviews': TensorSpec(shape=(), dtype=tf.string, name=None),\n",
              " 'Indie': TensorSpec(shape=(), dtype=tf.int64, name=None),\n",
              " 'Casual': TensorSpec(shape=(), dtype=tf.int64, name=None),\n",
              " 'Adventure': TensorSpec(shape=(), dtype=tf.int64, name=None)}"
            ]
          },
          "metadata": {},
          "execution_count": 4
        }
      ]
    },
    {
      "cell_type": "code",
      "execution_count": 5,
      "metadata": {
        "id": "vd4_BGKyurao",
        "colab": {
          "base_uri": "https://localhost:8080/"
        },
        "outputId": "b0cdb6cb-58db-4535-b8ba-bd5c27ab85b0"
      },
      "outputs": [
        {
          "output_type": "stream",
          "name": "stdout",
          "text": [
            "Reviews:  b'This game is broken.\\r\\n\\r\\nIt isn\\'t possible to open chests or use your \"special ability,\" and the level doesn\\'t have an exit or an end boss.'\n",
            "Indie:  1\n",
            "Casual:  0\n",
            "Adventure:  1\n"
          ]
        }
      ],
      "source": [
        "for elem in tf_train_dataset.take(1):\n",
        "  print('Reviews: ', elem['reviews'].numpy())\n",
        "  print('Indie: ', elem['Indie'].numpy())\n",
        "  print('Casual: ', elem['Casual'].numpy())\n",
        "  print('Adventure: ', elem['Adventure'].numpy())"
      ]
    },
    {
      "cell_type": "markdown",
      "metadata": {
        "id": "z2qVJzcEluH_"
      },
      "source": [
        "Next shuffle the data for training and create batches of these `(text, label)` pairs:"
      ]
    },
    {
      "cell_type": "code",
      "execution_count": 6,
      "metadata": {
        "id": "dDsCaZCDYZgm"
      },
      "outputs": [],
      "source": [
        "BUFFER_SIZE = 10000\n",
        "BATCH_SIZE = 64"
      ]
    },
    {
      "cell_type": "code",
      "execution_count": 7,
      "metadata": {
        "id": "VznrltNOnUc5"
      },
      "outputs": [],
      "source": [
        "tf_train_dataset = tf_train_dataset.shuffle(BUFFER_SIZE).batch(BATCH_SIZE).prefetch(tf.data.AUTOTUNE)\n",
        "tf_test_dataset = tf_test_dataset.batch(BATCH_SIZE).prefetch(tf.data.AUTOTUNE)"
      ]
    },
    {
      "cell_type": "code",
      "execution_count": 9,
      "metadata": {
        "id": "jqkvdcFv41wC",
        "colab": {
          "base_uri": "https://localhost:8080/"
        },
        "outputId": "012cd12b-7954-457a-a044-695a2d200453"
      },
      "outputs": [
        {
          "output_type": "stream",
          "name": "stdout",
          "text": [
            "reviews:  [b\"To this day I still play this game on occasion.  It's an all time classic written by Sid Meier and ported by Aspyr media.  Shoot, I am going to play this game right now.  I suggest everyone on the planet have this game.|;|One of the best games ever made. Period.|;|Favorite CiV game of all time...I still play it religiously|;|World domination. Thats all you need to know|;|Good flow of play. Not too complicated.|;|i love it so much i cried|;|Best Civ version ever, IMHO|;|Very fun, best Civ game|;|complex historical content|;|Epic|;|jn,\"\n",
            " b'I just finished playing this game for the second time.  This time for the cheevos.  I was able to get all except for the video cards achievement.  The last video card was there as you open the last puzzle.  My problem was that the puzzle opened before I was able to take the card.  It\\'s a good game with challenging puzzles, except for this last bug.  I am Very disappointed.|;|Wowza. Such potential for this game with a sorta Indiana Jones theme that does so well and then...stops. Actually, numerous things stop. For some reason halfway through the game the voice acting stopped (thank goodness the music worked and I had text on screen), the back half of the puzzles became excessively buggy to the point I could not complete a mosaic puzzle and had to click the damned \\'skip\\' button thereby missing the achievement. Previously closing the game and reopening it fixed most issues but this one tested my patience big time. So, the final thing that stopped was the story because blink and you\\'d miss the sweeping resolution for everything in the space of 15 seconds and credits roll. Felt a bit of a cop out when you were just getting invested in the characters, and up until that point I was really enjoying the story (hindered by those bugs grr). Puzzle mix was good, hidden objects fine, music was terrific but overall the game ruined by bugs and a forgettable ending. Damn.|;|Despite nice graphics and music, as well as flavorful cut-scenes, this casual point-and-click adventure is underwhelming. The story is poorly constructed and often silly, and many of the mini-game puzzles are just tedious rather than clever.|;|This is a fun game for the sheer campiness of the time period sci-fi tropes, characters, and story.  Kudos to the writers for pulling off the old style feel and art.  Also, I enjoyed the HO scenes, and having to look for really old-fashioned stuff (telephones, for example).\\r\\n\\r\\nThere are some definite cons, however.\\r\\nI was very disappointed not to be able to complete my 100% run through thanks to a couple of slightly buggy and/or oversensitive puzzles.  It\\'s not that I couldn\\'t solve the puzzles - most are honestly too easy - but one puzzle refused to respond to the solution in my first run-through, and when I tried again, that puzzle worked but a different puzzle just would *not* \"finish\" and click into place.\\r\\nSpeaking of the puzzles, I never want to connect the dots for that stupid helicopter blueprint ever again.  Maybe it\\'s straightforward with a different input method, but with a mouse it\\'s tedious beyond words.\\r\\n\\r\\nBottom line?  I had fun, and then I got frustrated.  I\\'m still recommending because there was a lot good about it.\\r\\nFun (if campy) story, very nice art, good voices.  It really felt like a period piece - and the movie clips were cute (though triggering the achievement is a problem).\\r\\nDon\\'t buy it if you are set on your 100% unless you bring some patience - you might get lucky, you might not.\\r\\nAlso, in one of the last HO scenes there is one bad translation and one bad \"hit zone\" for a required object:  the \"watering can\" is actually a funnel; the hourglass CAN be collected, but you\\'ll want to click several times to get it.\\r\\n\\r\\nI really truly wish the devs would just fix the last couple of things wrong with this game.  Buy on a deep discount and play for the HO scenes and the story/animation.|;|Not a good HOG. \\r\\nWhile the Hidden Object puzzles are as fun as in almost any other game of the type, the mini-games are what lets the side down here. Some of them are unnecessarily time-consuming; it\\'s clear what you have to do it just takes ages. Some are really unclear as to what the goal is and in what way you need to manipulate to the tools in order to succeed. And others just require a trial & error approach. If you\\'re the type of person who refuses to use the skip or hint functions in these games then this one will drive you up the wall. \\r\\nPlus the storyline is really dull. It may be one of the cheaper games of the type, but there\\'s a good reason for that: It\\'s one of the worst.|;|Imaginative plot based on the hollow earth legend. The game is casual in every way. No stress and mostly relaxing. I like hidden object games. What I don\\'t like about hidden object games are the timed achievements. This game has only one, which is a positive for me. Overall it is entertaining.|;|The Esoterica: Hollow Earth is a good HOG. I don\\'t understand the bad comments. Besides it\\'s quite cheap so one shouldn\\'t wait for a HOG such as Artifex\\'s games, for instance. \\r\\nAs far as my playthrough is concerned I did not encounter any bug. I was able to complete the game and get a 100% achievement during a unique playthrough, without using any cheat, any other gamer\\'s saves or any other tricks of the sort. \\r\\n\\r\\nThe Esoterica: Hollow Earth deserves to be known and played, for it has many positive aspects and some of these are quite rare in the whole game industry.\\r\\nAbove all, the general idea is quite good : storyline and game ambiance are great. They are well rendered by beautiful graphics and nice musics. \\r\\n-The story is interesting and very catchy. I don\\'t want to spoil it, I\\'ll only say that it reminds me a bit of Syberia and Sokal\\'s universe, to some extent. Thus it really should please Jules Verne\\'s novels\\' fans as well. \\r\\n-The atmosphere is gigantic from a human point of view. It\\'s somewhere between magical hopes and robotic performances and it\\'s full of mysteries.\\r\\nThe historic period looks like the Belle epoque and the art style of the game really reminded me of the Art Nouveau style. Many background drawings and decorations look like Alfons Muchas\\' paintings and posters. Architectural shapes are round, using metal and glass such as those during the Industrial Revolution. My guess is that Industrial Revolution, an important chapter in history, is the period that inspired the story. The plot might take place in the period just afterwards. Being a great period for scientific discoveries and creations, in those times when science was trying to meet most human dreams, when crazy and ambitious inventions where trying to reach the infinite human imagination, many things which until then were unconceavable became real and many other things seemed possible,even magic.  One can sense this humankind greatness while playing The Esoterica: Hollow Earth. \\r\\nThe art style of the game goes along with it, especially the graphics. \\r\\nVoice acting is fluctuating. Whereas the feminin main character voice is ok, others, such as NPC\\'s voices, can be rather shoddy. \\r\\nPuzzles difficulty is from easy to medium. Some of them might be painstaking or tedious and hence require patience, but they\\'re not hard to beat. \\r\\nHOS are beautiful and depict many objects accordingly to the whole art style of the game. I liked them, except for 2 points:\\r\\n- They are a bit repetitive since many scenes use the same place with only slight modifications. \\r\\n- There are several silhouette HOS, which I personnaly don\\'t enjoy. I play HOG mainly to improve my English vocabulary the funny way, since English isn\\'t my native language, so when it comes to finding objects from their silhouette i quickly get bored.  \\r\\n\\r\\nSadly the end comes a bit abruptly but I finished the game with a very positive memory for it was an enjoyable and beautiful experience I\\'m willing to share. \\r\\nI wish there were more games with such a great ambiance.|;|A really cool game with a cool lore and a nice gameplay. The whole game is pretty easy even on expert, but its still fun to play. The collectibles are really nice due to containing more lore about the world. The story is pretty nice too, Its kinda typical but still not boring. The cutscenes\\xc2\\xb4 style is pretty cool even though its pretty hard to read everything, even for me. All in onre a really nice game. I can highly recommend it.|;|An interesting story, but few of the objects were not named properly, so you had to just click on everything to \"find\" them. The quality is a bit disappointing in that case.|;|find the object, reasonably well done. 7/10 . nice imaginative art of agartha.  took about 4 hours, but it crashed and my save file got corrupted. had to start again.|;|Apologies to Alawar Stargaze but I cannot recommend this game.  I really wanted to like it but I ran into too many issues with the game play. Visually it is beautiful and I like the arc of the storyline.\\r\\n[list]\\r\\n[*]The 1920\\'s art deco concept of the game is very well executed.\\r\\n[*]The artwork for the locations, hidden object games and mini-games is beautiful.\\r\\n[*]Some of the mini-games are [i]extremely[/i] tedious.\\r\\n[*]I found three of the mini-games to be really cool with rotating elements in offset positions that needed to be aligned carefully.\\r\\n[*]Some of the hidden object games have bad clues - like \"watering can\" when it should be \"funnel\".\\r\\n[*]One of the hidden object games has a show-stopper issue if you are unlucky enough to get an impossible object - (the bottle in the storage locker).\\r\\n[*]Some of the hidden object hot spots are very difficult to hit or are in counter-intuitive locations relative to the image on the screen. Alawar should issue a patch to address this issue - hour glass at the escape pod for example\\r\\n[*]There should be an achievement for finding all of the gold cards but there is not.\\r\\n[*]The film critic achievement is broken.  If you skip the opening video once, it logs that against your profile.  The only way to get the achievement after that is to start a new profile.   What it should do, is clear the flag for having skipped a video when you start the game again with the same profile.  It also should not count the video in the opening credits towards that achievement- who wants to watch that every time they start the game?  I had a similar issue with [u]The Saint[/u] by the same developers.\\r\\n[/list]\\r\\nTo get through this game and get all of the achievements, I had to monitor the saves.xml file and watch whether there was a value of 1 for the clip_skipped variable in the active profile.  I used 7-Zip to archive the saves folder so I could reinstate it from a good location.\\r\\n\\r\\nI rate [u]Esoterica: Hollow Earth[/u] as 4 out of 10 - I would have given it 7 out of 10 had there been no issues.  Given the problems I encountered, I do not recommend that you buy this game, not at full price, not on sale, not as an extra in a bundle.|;|I\\xe2\\x80\\x99ve decided to be benevolent here and recommend this game, even though with some reservations. First of all, the game has some great graphics and sceneries themed in the 1930s. For a HOG, the puzzles are also very well done. The main problem is with the story \\xe2\\x80\\x93 it starts well, bringing elements of the \\xe2\\x80\\x9cHollow Earth\\xe2\\x80\\x9d theory that was popular in certain occult circles related with Nazis. However, in the second half of the game it gets somewhat erratic and confusing, and the ending left a feeling that the developers just got bored with this game and cut it short, making the good potential of the story utterly wasted. Disappointing, but still well worth playing if you\\xe2\\x80\\x99re a collector of HOGs (and as I said before, the graphics are really cool) and at a favorable price.|;|It came in a 6-games bundle.\\r\\nGraphics and story aren\\'t bad at all and, a couple of puzzles are original.\\r\\nMain complains are about the help system, which helps nothing and, a lack of some sort of map to fast travelling to sensible areas. Sensible objects areas are a bit fuzzy. You can find yourself clicking over an object and, the game doesn\\'t see your are clicking over it.\\r\\nAverage game|;|I am a big fan of HOG but this game was a disapointment. Had the potential to be a great game but a few things screwed it. \\r\\nAfter a while playing the video scenes didnt have a voice anymore atleast we have it written but it felt incomplete. The story started interesting even more after you played as another character and learned even more but it got more and more complicated and boring. A few HO scenes were buggy where I had to clicka few times that it would register but the thing that killed the game for me and stopped me from finishing it was a problem which a few people seem to have.\\r\\n\\r\\nThe \"BOTTLE\" problem. In a HO scence you have to find a bottle which isnt that hard to find but it wont register you clicking it even after reopening the game. I read that it could fix the problem after restarting the game but it is at a part of the game wher you are already far into it (around 2 hours playtime) adn i dont want to start it from all over again.\\r\\n\\r\\nIf you dont have the problem and are an achievment hunter like me and are lucky that you dont have the BOTTLE problem, there is a tricky achievment. One of the achievments is watching all cutscenes but even if you watch all you wont get it if you skipped even once the intro after reopening the game.\\r\\n\\r\\nOverall had potential but messed up dont buy it!!|;|As others have said, the second half of the game has several bugged mini-games, which is a great shame as it\\'s otherwise one of the better HOGs and definitely better than Alawar\\'s usual fare. A missed opportunity - 5/10.|;|Nice artwork. The hidden objects are very easy to find. However, there were problems with the game.\\r\\n \\r\\nMusic. The music can abruptly change or be missing, Not game breaking but it was odd.\\r\\n\\r\\nPuzzles. There are two major issues. First, like other hidden object games I have played, some puzzles are based on color. So for color blind people, this can be an obstacle.\\r\\n\\r\\nThe second is some puzzles appears to be buggy and just did not work. It could be that I am just stupid but I did what I think the instructions suggested but nothing happened.\\r\\n\\r\\nGiven the issue I had with buggy puzzle, I cannot fully recommend this. It is pity since I like the artwork and the music when it worked. Hopefully, their next game will be more polished.|;|[b][u]Game Information[/u][/b]\\r\\n\\r\\n\"The Esoterica: Hollow Earth\" is a Hidden Object Puzzle Adventure game. The game was developed by Happy Artist and published by Alawar Entertainment.\\r\\n\\r\\n[b][u]The Game Review[/u][/b]\\r\\n\\r\\nGame Visuals\\r\\n\\r\\nI want to mention that the visuals in the game are well done. The visuals can be adjusted in the game\\'s option menu.\\r\\n\\r\\nGame Audio\\r\\n\\r\\nI want to mention that audio for the game is well done. Even though the audio is somewhat simplistic and repetitive. The audio can be adjusted in the game\\'s option menu as well.\\r\\n\\r\\nGameplay\\r\\n\\r\\nThere are two different difficulty game modes to choose from: Regular and Expert.\\r\\n\\r\\nThe notebook keeps track of progression in the game. Such as story events and clues.\\r\\n\\r\\nThere is no map available in the game. Plenty of backtracking from location to location.\\r\\n\\r\\nThere is no padlock feature available to lock the inventory panel in place to make it stationary. The inventory panel is stationary.\\r\\n\\r\\nThe hidden object scenes consist of the following: Shadow items and Traditional word lists. Some of these hidden object scenes may require little or no interaction.\\r\\n\\r\\nThe puzzles are fairy easy to solve without having the need to skip any of them.\\r\\n\\r\\nThere is a collectible item in the game, Golden Punch Cards, they are scattered throughout the game for the player to find.\\r\\n\\r\\nThere are six different achievements that can be unlocked from playing the game. Each of these achievements does come with some requirements that need to be completed before they can be unlocked.\\r\\n\\r\\nMiscellaneous\\r\\n\\r\\nThere are five different trading cards to collect. Only three of those trading cards are given out by the game. There are several ways to get the rest of the trading cards: Purchased from the Steam\\'s Community Market; Trade with friends; Booster Packs and its Booster Pack Creator.\\r\\n\\r\\nFinal thoughts: I have found the game enjoyable to a certain extent. The replay value for the game is low. I would recommend this game, but not at the game\\'s full price value.|;|This game has too many issues, hence I cannot recommend it. First of all, the game is so buggy that some puzzles despite you arranging them correctly, will need you to restart the game for you to complete them (happened to me with the bird mosaic). The video achievement is buggy and everytime you open the game you have to watch fully the introduction video in order to get it. Another major drawback is the repetitive HO scenes, that is you keep viewing the same room three times (!) and you keep revisiting the same locations a lot. HO objects are reused continously, which means you will be looking for the same scissors, kettle, sword through many scenes and it gets to a point you memorise what doesn\\'t belong to the enviornment and automatically spot it. I do enjoy the art and space-like music, but I find the story all over the place. Last but not least, if you are going to make game translations and have the game auto detect your language, make sure there are no mistakes - my Polish version had mistakes not only in the story (which is w/e) but also in HO scenes and I was looking for ages for \"kataloi\" and googling it - which was meant to be \"katalog\".|;|A cute but forgettable HOG with a fun premise and decent puzzles. Worth picking up on sale!|;|Artwork: 8/10\\r\\nGraphics: 8/10\\r\\nMap: no \\r\\nHOS: classic, find-by-shape, not much\\r\\nPuzzles: few but sometimes mind-boggling|;|I bought this on sale as part of a bundle. The art style is pretty cool and I really enjoyed the story, although it felt like it cut off suddenly at the end... Will there be more? The puzzles and hidden object scenes were well thought out with plenty of variety and not too easy at times. \\r\\n\\r\\nHowever to get the Film Critic achievement, it is best to play the game in one sitting and, obviously, don\\'t skip scenes. I missed it on my first play through and I suspect it was because I skipped the opening scene that automatically plays when I came back to the game (even though I had watched it when I initially started the game).\\r\\n\\r\\nPick it up even just for the great art deco details!|;|If you want to look at some pretty artwork and listen to fairly okay music, this is the HOG for you.\\r\\n\\r\\nIf you want polished HOG scenes and minigames and a satisfying conclusion, it\\'s not.|;|Most of the puzzels did not work properly and it just ended.. i finished the last puzzle and nothing straight to credits. Talk about a disapointment|;|The Esoterica: Hollow Earth\\r\\n\\r\\n10/10|;|Excellent game - good story and easy to follow.|;|Its a quick easy game'\n",
            " b\"It's a cute little horror game, don't get me wrong but idk how they think they can charge $10 for this. I got it for $1.04 when it was on sale and I was contemplating requesting a refund because it's a boring version of FNAF.|;|It's not a terrible FNAF-style game but the price is extremely high for what it is|;|AMAZING sit and survive game, i love it!!!! its really fun and the story is great!! it was really easy though, but thats fine.\\r\\ni highly recommend if u love fnaf and it's fan games\\r\\nthough it's base price is pretty high i got it for about 70-90% of that\"]\n",
            "\n",
            "Indie:  [0 0 1]\n",
            "Casual [0 1 1]\n",
            "Adventure:  [0 1 0]\n"
          ]
        }
      ],
      "source": [
        "for element in tf_train_dataset.take(1):\n",
        "  print('reviews: ', element['reviews'].numpy()[:3])\n",
        "  print()\n",
        "  print('Indie: ', element['Indie'].numpy()[:3])\n",
        "  print('Casual', element['Casual'].numpy()[:3])\n",
        "  print('Adventure: ', element['Adventure'].numpy()[:3])"
      ]
    },
    {
      "cell_type": "markdown",
      "metadata": {
        "id": "s5eWCo88voPY"
      },
      "source": [
        "## Create the text encoder"
      ]
    },
    {
      "cell_type": "markdown",
      "metadata": {
        "id": "TFevcItw15P_"
      },
      "source": [
        "The raw text loaded by `tfds` needs to be processed before it can be used in a model. The simplest way to process text for training is using the `TextVectorization` layer. This layer has many capabilities, but this tutorial sticks to the default behavior.\n",
        "\n",
        "There is room for improvement here, vectorization with certain dictionaries or parameters may affect model accuracy.\n",
        "\n",
        "Create the layer, and pass the dataset's text to the layer's `.adapt` method:"
      ]
    },
    {
      "cell_type": "code",
      "execution_count": 10,
      "metadata": {
        "id": "uC25Lu1Yvuqy"
      },
      "outputs": [],
      "source": [
        "VOCAB_SIZE = 10000\n",
        "encoder = tf.keras.layers.TextVectorization(\n",
        "    max_tokens=VOCAB_SIZE)\n",
        "encoder.adapt(tf_train_dataset.map(lambda x: x['reviews']))"
      ]
    },
    {
      "cell_type": "markdown",
      "metadata": {
        "id": "IuQzVBbe3Ldu"
      },
      "source": [
        "The `.adapt` method sets the layer's vocabulary. Here are the first 20 tokens. After the padding and unknown tokens they're sorted by frequency:\n",
        "\n",
        "Note: Should filter for significant tokens. 'a' and 'the' and 'in' and so on are not helpful."
      ]
    },
    {
      "cell_type": "code",
      "execution_count": 11,
      "metadata": {
        "id": "tBoyjjWg0Ac9",
        "colab": {
          "base_uri": "https://localhost:8080/"
        },
        "outputId": "db4c8c9f-e20c-4e9f-e15f-54a396d7707d"
      },
      "outputs": [
        {
          "output_type": "execute_result",
          "data": {
            "text/plain": [
              "array(['', '[UNK]', 'the', 'and', 'to', 'a', 'game', 'of', 'i', 'is',\n",
              "       'it', 'you', 'this', 'in', 'that', 'for', 'but', 'with', 'are',\n",
              "       'on'], dtype='<U31')"
            ]
          },
          "metadata": {},
          "execution_count": 11
        }
      ],
      "source": [
        "vocab = np.array(encoder.get_vocabulary())\n",
        "vocab[:20]"
      ]
    },
    {
      "cell_type": "markdown",
      "metadata": {
        "id": "mjId5pua3jHQ"
      },
      "source": [
        "Once the vocabulary is set, the layer can encode text into indices. The tensors of indices are 0-padded to the longest sequence in the batch (unless you set a fixed `output_sequence_length`):"
      ]
    },
    {
      "cell_type": "code",
      "execution_count": 12,
      "metadata": {
        "id": "RGc7C9WiwRWs",
        "colab": {
          "base_uri": "https://localhost:8080/"
        },
        "outputId": "6ffb9a52-8102-4fcc-c8a0-7b4fb4ff6593"
      },
      "outputs": [
        {
          "output_type": "execute_result",
          "data": {
            "text/plain": [
              "array([[  4,  12, 307, ...,   0,   0,   0],\n",
              "       [  8,  28, 491, ...,   0,   0,   0],\n",
              "       [ 20,   5, 438, ...,   0,   0,   0]])"
            ]
          },
          "metadata": {},
          "execution_count": 12
        }
      ],
      "source": [
        "encoded_example = encoder(element['reviews'])[:3].numpy()\n",
        "encoded_example"
      ]
    },
    {
      "cell_type": "markdown",
      "metadata": {
        "id": "F5cjz0bS39IN"
      },
      "source": [
        "With the default settings, the process is not completely reversible. There are three main reasons for that:\n",
        "\n",
        "1. The default value for `preprocessing.TextVectorization`'s `standardize` argument is `\"lower_and_strip_punctuation\"`.\n",
        "2. The limited vocabulary size and lack of character-based fallback results in some unknown tokens."
      ]
    },
    {
      "cell_type": "code",
      "execution_count": 13,
      "metadata": {
        "id": "N_tD0QY5wXaK",
        "colab": {
          "base_uri": "https://localhost:8080/"
        },
        "outputId": "0fa19e08-b7d6-44e5-ec3a-b80cb0bc4da9"
      },
      "outputs": [
        {
          "output_type": "stream",
          "name": "stdout",
          "text": [
            "Original:  b\"To this day I still play this game on occasion.  It's an all time classic written by Sid Meier and ported by Aspyr media.  Shoot, I am going to play this game right now.  I suggest everyone on the planet have this game.|;|One of the best games ever made. Period.|;|Favorite CiV game of all time...I still play it religiously|;|World domination. Thats all you need to know|;|Good flow of play. Not too complicated.|;|i love it so much i cried|;|Best Civ version ever, IMHO|;|Very fun, best Civ game|;|complex historical content|;|Epic|;|jn,\"\n",
            "Round-trip:  to this day i still play this game on occasion its an all time classic written by [UNK] [UNK] and ported by [UNK] media shoot i am going to play this game right now i suggest everyone on the planet have this gameone of the best games ever made [UNK] civ game of all timei still play it [UNK] [UNK] thats all you need to [UNK] flow of play not too [UNK] love it so much i [UNK] civ version ever [UNK] fun best civ [UNK] historical [UNK]                                                                                                                                                                                                                                                                                                                                                                                                                                                                                                                                                                                                                                                                                                                                                                                                                                                                                                                                                                                                                                                                                                                                                                                                                                                                                                                                                                                                                                                                                                                                                                                                                                                                                                                                                                                                                                                                                                                                                                                                                                                                                                                                                                                                                                                                                                                                                                                                                                                                                                                                                                                                                                                                                                                                                                                                                                                                                                                                                                                                                                                                                                                                                                                                                                                                                                                                                                                                                                                                                                                                                                                                                                                                                                                                                                                                                                                                                                                                                                                                                                                                                                                                                                                                                                                                                                                                                                                                                                                                                                                                                                                                                                                                                                                                                                                                                                                                                                                                                                                                                                                                                                                                                                                                                                                                                                                                                                                                                                                                                                                                                                                                                                                                                                                                                                                                                                                                                                                                                                                                                                                                                                                                                                                                                                                                                                                                                                                                                                                                                                                                                                                                                                        \n",
            "\n",
            "Original:  b'I just finished playing this game for the second time.  This time for the cheevos.  I was able to get all except for the video cards achievement.  The last video card was there as you open the last puzzle.  My problem was that the puzzle opened before I was able to take the card.  It\\'s a good game with challenging puzzles, except for this last bug.  I am Very disappointed.|;|Wowza. Such potential for this game with a sorta Indiana Jones theme that does so well and then...stops. Actually, numerous things stop. For some reason halfway through the game the voice acting stopped (thank goodness the music worked and I had text on screen), the back half of the puzzles became excessively buggy to the point I could not complete a mosaic puzzle and had to click the damned \\'skip\\' button thereby missing the achievement. Previously closing the game and reopening it fixed most issues but this one tested my patience big time. So, the final thing that stopped was the story because blink and you\\'d miss the sweeping resolution for everything in the space of 15 seconds and credits roll. Felt a bit of a cop out when you were just getting invested in the characters, and up until that point I was really enjoying the story (hindered by those bugs grr). Puzzle mix was good, hidden objects fine, music was terrific but overall the game ruined by bugs and a forgettable ending. Damn.|;|Despite nice graphics and music, as well as flavorful cut-scenes, this casual point-and-click adventure is underwhelming. The story is poorly constructed and often silly, and many of the mini-game puzzles are just tedious rather than clever.|;|This is a fun game for the sheer campiness of the time period sci-fi tropes, characters, and story.  Kudos to the writers for pulling off the old style feel and art.  Also, I enjoyed the HO scenes, and having to look for really old-fashioned stuff (telephones, for example).\\r\\n\\r\\nThere are some definite cons, however.\\r\\nI was very disappointed not to be able to complete my 100% run through thanks to a couple of slightly buggy and/or oversensitive puzzles.  It\\'s not that I couldn\\'t solve the puzzles - most are honestly too easy - but one puzzle refused to respond to the solution in my first run-through, and when I tried again, that puzzle worked but a different puzzle just would *not* \"finish\" and click into place.\\r\\nSpeaking of the puzzles, I never want to connect the dots for that stupid helicopter blueprint ever again.  Maybe it\\'s straightforward with a different input method, but with a mouse it\\'s tedious beyond words.\\r\\n\\r\\nBottom line?  I had fun, and then I got frustrated.  I\\'m still recommending because there was a lot good about it.\\r\\nFun (if campy) story, very nice art, good voices.  It really felt like a period piece - and the movie clips were cute (though triggering the achievement is a problem).\\r\\nDon\\'t buy it if you are set on your 100% unless you bring some patience - you might get lucky, you might not.\\r\\nAlso, in one of the last HO scenes there is one bad translation and one bad \"hit zone\" for a required object:  the \"watering can\" is actually a funnel; the hourglass CAN be collected, but you\\'ll want to click several times to get it.\\r\\n\\r\\nI really truly wish the devs would just fix the last couple of things wrong with this game.  Buy on a deep discount and play for the HO scenes and the story/animation.|;|Not a good HOG. \\r\\nWhile the Hidden Object puzzles are as fun as in almost any other game of the type, the mini-games are what lets the side down here. Some of them are unnecessarily time-consuming; it\\'s clear what you have to do it just takes ages. Some are really unclear as to what the goal is and in what way you need to manipulate to the tools in order to succeed. And others just require a trial & error approach. If you\\'re the type of person who refuses to use the skip or hint functions in these games then this one will drive you up the wall. \\r\\nPlus the storyline is really dull. It may be one of the cheaper games of the type, but there\\'s a good reason for that: It\\'s one of the worst.|;|Imaginative plot based on the hollow earth legend. The game is casual in every way. No stress and mostly relaxing. I like hidden object games. What I don\\'t like about hidden object games are the timed achievements. This game has only one, which is a positive for me. Overall it is entertaining.|;|The Esoterica: Hollow Earth is a good HOG. I don\\'t understand the bad comments. Besides it\\'s quite cheap so one shouldn\\'t wait for a HOG such as Artifex\\'s games, for instance. \\r\\nAs far as my playthrough is concerned I did not encounter any bug. I was able to complete the game and get a 100% achievement during a unique playthrough, without using any cheat, any other gamer\\'s saves or any other tricks of the sort. \\r\\n\\r\\nThe Esoterica: Hollow Earth deserves to be known and played, for it has many positive aspects and some of these are quite rare in the whole game industry.\\r\\nAbove all, the general idea is quite good : storyline and game ambiance are great. They are well rendered by beautiful graphics and nice musics. \\r\\n-The story is interesting and very catchy. I don\\'t want to spoil it, I\\'ll only say that it reminds me a bit of Syberia and Sokal\\'s universe, to some extent. Thus it really should please Jules Verne\\'s novels\\' fans as well. \\r\\n-The atmosphere is gigantic from a human point of view. It\\'s somewhere between magical hopes and robotic performances and it\\'s full of mysteries.\\r\\nThe historic period looks like the Belle epoque and the art style of the game really reminded me of the Art Nouveau style. Many background drawings and decorations look like Alfons Muchas\\' paintings and posters. Architectural shapes are round, using metal and glass such as those during the Industrial Revolution. My guess is that Industrial Revolution, an important chapter in history, is the period that inspired the story. The plot might take place in the period just afterwards. Being a great period for scientific discoveries and creations, in those times when science was trying to meet most human dreams, when crazy and ambitious inventions where trying to reach the infinite human imagination, many things which until then were unconceavable became real and many other things seemed possible,even magic.  One can sense this humankind greatness while playing The Esoterica: Hollow Earth. \\r\\nThe art style of the game goes along with it, especially the graphics. \\r\\nVoice acting is fluctuating. Whereas the feminin main character voice is ok, others, such as NPC\\'s voices, can be rather shoddy. \\r\\nPuzzles difficulty is from easy to medium. Some of them might be painstaking or tedious and hence require patience, but they\\'re not hard to beat. \\r\\nHOS are beautiful and depict many objects accordingly to the whole art style of the game. I liked them, except for 2 points:\\r\\n- They are a bit repetitive since many scenes use the same place with only slight modifications. \\r\\n- There are several silhouette HOS, which I personnaly don\\'t enjoy. I play HOG mainly to improve my English vocabulary the funny way, since English isn\\'t my native language, so when it comes to finding objects from their silhouette i quickly get bored.  \\r\\n\\r\\nSadly the end comes a bit abruptly but I finished the game with a very positive memory for it was an enjoyable and beautiful experience I\\'m willing to share. \\r\\nI wish there were more games with such a great ambiance.|;|A really cool game with a cool lore and a nice gameplay. The whole game is pretty easy even on expert, but its still fun to play. The collectibles are really nice due to containing more lore about the world. The story is pretty nice too, Its kinda typical but still not boring. The cutscenes\\xc2\\xb4 style is pretty cool even though its pretty hard to read everything, even for me. All in onre a really nice game. I can highly recommend it.|;|An interesting story, but few of the objects were not named properly, so you had to just click on everything to \"find\" them. The quality is a bit disappointing in that case.|;|find the object, reasonably well done. 7/10 . nice imaginative art of agartha.  took about 4 hours, but it crashed and my save file got corrupted. had to start again.|;|Apologies to Alawar Stargaze but I cannot recommend this game.  I really wanted to like it but I ran into too many issues with the game play. Visually it is beautiful and I like the arc of the storyline.\\r\\n[list]\\r\\n[*]The 1920\\'s art deco concept of the game is very well executed.\\r\\n[*]The artwork for the locations, hidden object games and mini-games is beautiful.\\r\\n[*]Some of the mini-games are [i]extremely[/i] tedious.\\r\\n[*]I found three of the mini-games to be really cool with rotating elements in offset positions that needed to be aligned carefully.\\r\\n[*]Some of the hidden object games have bad clues - like \"watering can\" when it should be \"funnel\".\\r\\n[*]One of the hidden object games has a show-stopper issue if you are unlucky enough to get an impossible object - (the bottle in the storage locker).\\r\\n[*]Some of the hidden object hot spots are very difficult to hit or are in counter-intuitive locations relative to the image on the screen. Alawar should issue a patch to address this issue - hour glass at the escape pod for example\\r\\n[*]There should be an achievement for finding all of the gold cards but there is not.\\r\\n[*]The film critic achievement is broken.  If you skip the opening video once, it logs that against your profile.  The only way to get the achievement after that is to start a new profile.   What it should do, is clear the flag for having skipped a video when you start the game again with the same profile.  It also should not count the video in the opening credits towards that achievement- who wants to watch that every time they start the game?  I had a similar issue with [u]The Saint[/u] by the same developers.\\r\\n[/list]\\r\\nTo get through this game and get all of the achievements, I had to monitor the saves.xml file and watch whether there was a value of 1 for the clip_skipped variable in the active profile.  I used 7-Zip to archive the saves folder so I could reinstate it from a good location.\\r\\n\\r\\nI rate [u]Esoterica: Hollow Earth[/u] as 4 out of 10 - I would have given it 7 out of 10 had there been no issues.  Given the problems I encountered, I do not recommend that you buy this game, not at full price, not on sale, not as an extra in a bundle.|;|I\\xe2\\x80\\x99ve decided to be benevolent here and recommend this game, even though with some reservations. First of all, the game has some great graphics and sceneries themed in the 1930s. For a HOG, the puzzles are also very well done. The main problem is with the story \\xe2\\x80\\x93 it starts well, bringing elements of the \\xe2\\x80\\x9cHollow Earth\\xe2\\x80\\x9d theory that was popular in certain occult circles related with Nazis. However, in the second half of the game it gets somewhat erratic and confusing, and the ending left a feeling that the developers just got bored with this game and cut it short, making the good potential of the story utterly wasted. Disappointing, but still well worth playing if you\\xe2\\x80\\x99re a collector of HOGs (and as I said before, the graphics are really cool) and at a favorable price.|;|It came in a 6-games bundle.\\r\\nGraphics and story aren\\'t bad at all and, a couple of puzzles are original.\\r\\nMain complains are about the help system, which helps nothing and, a lack of some sort of map to fast travelling to sensible areas. Sensible objects areas are a bit fuzzy. You can find yourself clicking over an object and, the game doesn\\'t see your are clicking over it.\\r\\nAverage game|;|I am a big fan of HOG but this game was a disapointment. Had the potential to be a great game but a few things screwed it. \\r\\nAfter a while playing the video scenes didnt have a voice anymore atleast we have it written but it felt incomplete. The story started interesting even more after you played as another character and learned even more but it got more and more complicated and boring. A few HO scenes were buggy where I had to clicka few times that it would register but the thing that killed the game for me and stopped me from finishing it was a problem which a few people seem to have.\\r\\n\\r\\nThe \"BOTTLE\" problem. In a HO scence you have to find a bottle which isnt that hard to find but it wont register you clicking it even after reopening the game. I read that it could fix the problem after restarting the game but it is at a part of the game wher you are already far into it (around 2 hours playtime) adn i dont want to start it from all over again.\\r\\n\\r\\nIf you dont have the problem and are an achievment hunter like me and are lucky that you dont have the BOTTLE problem, there is a tricky achievment. One of the achievments is watching all cutscenes but even if you watch all you wont get it if you skipped even once the intro after reopening the game.\\r\\n\\r\\nOverall had potential but messed up dont buy it!!|;|As others have said, the second half of the game has several bugged mini-games, which is a great shame as it\\'s otherwise one of the better HOGs and definitely better than Alawar\\'s usual fare. A missed opportunity - 5/10.|;|Nice artwork. The hidden objects are very easy to find. However, there were problems with the game.\\r\\n \\r\\nMusic. The music can abruptly change or be missing, Not game breaking but it was odd.\\r\\n\\r\\nPuzzles. There are two major issues. First, like other hidden object games I have played, some puzzles are based on color. So for color blind people, this can be an obstacle.\\r\\n\\r\\nThe second is some puzzles appears to be buggy and just did not work. It could be that I am just stupid but I did what I think the instructions suggested but nothing happened.\\r\\n\\r\\nGiven the issue I had with buggy puzzle, I cannot fully recommend this. It is pity since I like the artwork and the music when it worked. Hopefully, their next game will be more polished.|;|[b][u]Game Information[/u][/b]\\r\\n\\r\\n\"The Esoterica: Hollow Earth\" is a Hidden Object Puzzle Adventure game. The game was developed by Happy Artist and published by Alawar Entertainment.\\r\\n\\r\\n[b][u]The Game Review[/u][/b]\\r\\n\\r\\nGame Visuals\\r\\n\\r\\nI want to mention that the visuals in the game are well done. The visuals can be adjusted in the game\\'s option menu.\\r\\n\\r\\nGame Audio\\r\\n\\r\\nI want to mention that audio for the game is well done. Even though the audio is somewhat simplistic and repetitive. The audio can be adjusted in the game\\'s option menu as well.\\r\\n\\r\\nGameplay\\r\\n\\r\\nThere are two different difficulty game modes to choose from: Regular and Expert.\\r\\n\\r\\nThe notebook keeps track of progression in the game. Such as story events and clues.\\r\\n\\r\\nThere is no map available in the game. Plenty of backtracking from location to location.\\r\\n\\r\\nThere is no padlock feature available to lock the inventory panel in place to make it stationary. The inventory panel is stationary.\\r\\n\\r\\nThe hidden object scenes consist of the following: Shadow items and Traditional word lists. Some of these hidden object scenes may require little or no interaction.\\r\\n\\r\\nThe puzzles are fairy easy to solve without having the need to skip any of them.\\r\\n\\r\\nThere is a collectible item in the game, Golden Punch Cards, they are scattered throughout the game for the player to find.\\r\\n\\r\\nThere are six different achievements that can be unlocked from playing the game. Each of these achievements does come with some requirements that need to be completed before they can be unlocked.\\r\\n\\r\\nMiscellaneous\\r\\n\\r\\nThere are five different trading cards to collect. Only three of those trading cards are given out by the game. There are several ways to get the rest of the trading cards: Purchased from the Steam\\'s Community Market; Trade with friends; Booster Packs and its Booster Pack Creator.\\r\\n\\r\\nFinal thoughts: I have found the game enjoyable to a certain extent. The replay value for the game is low. I would recommend this game, but not at the game\\'s full price value.|;|This game has too many issues, hence I cannot recommend it. First of all, the game is so buggy that some puzzles despite you arranging them correctly, will need you to restart the game for you to complete them (happened to me with the bird mosaic). The video achievement is buggy and everytime you open the game you have to watch fully the introduction video in order to get it. Another major drawback is the repetitive HO scenes, that is you keep viewing the same room three times (!) and you keep revisiting the same locations a lot. HO objects are reused continously, which means you will be looking for the same scissors, kettle, sword through many scenes and it gets to a point you memorise what doesn\\'t belong to the enviornment and automatically spot it. I do enjoy the art and space-like music, but I find the story all over the place. Last but not least, if you are going to make game translations and have the game auto detect your language, make sure there are no mistakes - my Polish version had mistakes not only in the story (which is w/e) but also in HO scenes and I was looking for ages for \"kataloi\" and googling it - which was meant to be \"katalog\".|;|A cute but forgettable HOG with a fun premise and decent puzzles. Worth picking up on sale!|;|Artwork: 8/10\\r\\nGraphics: 8/10\\r\\nMap: no \\r\\nHOS: classic, find-by-shape, not much\\r\\nPuzzles: few but sometimes mind-boggling|;|I bought this on sale as part of a bundle. The art style is pretty cool and I really enjoyed the story, although it felt like it cut off suddenly at the end... Will there be more? The puzzles and hidden object scenes were well thought out with plenty of variety and not too easy at times. \\r\\n\\r\\nHowever to get the Film Critic achievement, it is best to play the game in one sitting and, obviously, don\\'t skip scenes. I missed it on my first play through and I suspect it was because I skipped the opening scene that automatically plays when I came back to the game (even though I had watched it when I initially started the game).\\r\\n\\r\\nPick it up even just for the great art deco details!|;|If you want to look at some pretty artwork and listen to fairly okay music, this is the HOG for you.\\r\\n\\r\\nIf you want polished HOG scenes and minigames and a satisfying conclusion, it\\'s not.|;|Most of the puzzels did not work properly and it just ended.. i finished the last puzzle and nothing straight to credits. Talk about a disapointment|;|The Esoterica: Hollow Earth\\r\\n\\r\\n10/10|;|Excellent game - good story and easy to follow.|;|Its a quick easy game'\n",
            "Round-trip:  i just finished playing this game for the second time this time for the [UNK] i was able to get all except for the video cards achievement the last video card was there as you open the last puzzle my problem was that the puzzle opened before i was able to take the card its a good game with challenging puzzles except for this last bug i am very [UNK] such potential for this game with a sorta indiana jones theme that does so well and [UNK] actually numerous things stop for some reason halfway through the game the voice acting stopped thank goodness the music worked and i had text on screen the back half of the puzzles became [UNK] buggy to the point i could not complete a mosaic puzzle and had to click the damned skip button [UNK] missing the achievement previously closing the game and [UNK] it fixed most issues but this one tested my patience big time so the final thing that stopped was the story because blink and youd miss the sweeping resolution for everything in the space of 15 seconds and credits roll felt a bit of a cop out when you were just getting invested in the characters and up until that point i was really enjoying the story [UNK] by those bugs [UNK] puzzle mix was good hidden objects fine music was terrific but overall the game ruined by bugs and a forgettable ending [UNK] nice graphics and music as well as [UNK] cutscenes this casual pointandclick adventure is underwhelming the story is poorly constructed and often silly and many of the minigame puzzles are just tedious rather than [UNK] is a fun game for the sheer [UNK] of the time period scifi tropes characters and story kudos to the writers for pulling off the old style feel and art also i enjoyed the ho scenes and having to look for really [UNK] stuff [UNK] for example there are some definite cons however i was very disappointed not to be able to complete my 100 run through thanks to a couple of slightly buggy andor [UNK] puzzles its not that i couldnt solve the puzzles most are honestly too easy but one puzzle refused to respond to the solution in my first [UNK] and when i tried again that puzzle worked but a different puzzle just would not finish and click into place speaking of the puzzles i never want to connect the dots for that stupid helicopter blueprint ever again maybe its straightforward with a different input method but with a mouse its tedious beyond words bottom line i had fun and then i got frustrated im still recommending because there was a lot good about it fun if campy story very nice art good voices it really felt like a period piece and the movie clips were cute though triggering the achievement is a problem dont buy it if you are set on your 100 unless you bring some patience you might get lucky you might not also in one of the last ho scenes there is one bad translation and one bad hit zone for a required object the [UNK] can is actually a [UNK] the [UNK] can be collected but youll want to click several times to get it i really truly wish the devs would just fix the last couple of things wrong with this game buy on a deep discount and play for the ho scenes and the [UNK] a good hog while the hidden object puzzles are as fun as in almost any other game of the type the minigames are what lets the side down here some of them are unnecessarily [UNK] its clear what you have to do it just takes ages some are really unclear as to what the goal is and in what way you need to manipulate to the tools in order to succeed and others just require a trial error approach if youre the type of person who refuses to use the skip or hint functions in these games then this one will drive you up the wall plus the storyline is really dull it may be one of the cheaper games of the type but theres a good reason for that its one of the [UNK] plot based on the hollow earth legend the game is casual in every way no stress and mostly relaxing i like hidden object games what i dont like about hidden object games are the timed achievements this game has only one which is a positive for me overall it is [UNK] [UNK] hollow earth is a good hog i dont understand the bad comments besides its quite cheap so one shouldnt wait for a hog such as [UNK] games for instance as far as my playthrough is concerned i did not encounter any bug i was able to complete the game and get a 100 achievement during a unique playthrough without using any cheat any other gamers saves or any other tricks of the sort the [UNK] hollow earth deserves to be known and played for it has many positive aspects and some of these are quite rare in the whole game industry above all the general idea is quite good storyline and game ambiance are great they are well rendered by beautiful graphics and nice musics the story is interesting and very catchy i dont want to spoil it ill only say that it reminds me a bit of [UNK] and [UNK] universe to some extent thus it really should please [UNK] [UNK] novels fans as well the atmosphere is gigantic from a human point of view its somewhere between magical hopes and robotic performances and its full of mysteries the [UNK] period looks like the [UNK] [UNK] and the art style of the game really reminded me of the art [UNK] style many background drawings and decorations look like [UNK] [UNK] paintings and [UNK] [UNK] shapes are round using metal and glass such as those during the industrial revolution my guess is that industrial revolution an important chapter in history is the period that inspired the story the plot might take place in the period just afterwards being a great period for scientific [UNK] and creations in those times when science was trying to meet most human dreams when crazy and ambitious [UNK] where trying to reach the infinite human imagination many things which until then were [UNK] became real and many other things seemed [UNK] magic one can sense this [UNK] greatness while playing the [UNK] hollow earth the art style of the game goes along with it especially the graphics voice acting is [UNK] whereas the [UNK] main character voice is ok others such as npcs voices can be rather shoddy puzzles difficulty is from easy to medium some of them might be [UNK] or tedious and hence require patience but theyre not hard to beat [UNK] are beautiful and [UNK] many objects accordingly to the whole art style of the game i liked them except for 2 points they are a bit repetitive since many scenes use the same place with only slight modifications there are several [UNK] [UNK] which i [UNK] dont enjoy i play hog mainly to improve my english vocabulary the funny way since english isnt my native language so when it comes to finding objects from their [UNK] i quickly get bored sadly the end comes a bit abruptly but i finished the game with a very positive memory for it was an enjoyable and beautiful experience im willing to share i wish there were more games with such a great [UNK] really cool game with a cool lore and a nice gameplay the whole game is pretty easy even on expert but its still fun to play the collectibles are really nice due to containing more lore about the world the story is pretty nice too its kinda typical but still not boring the [UNK] style is pretty cool even though its pretty hard to read everything even for me all in [UNK] a really nice game i can highly recommend [UNK] interesting story but few of the objects were not named properly so you had to just click on everything to find them the quality is a bit disappointing in that [UNK] the object reasonably well done 710 nice imaginative art of [UNK] took about 4 hours but it crashed and my save file got corrupted had to start [UNK] to [UNK] [UNK] but i cannot recommend this game i really wanted to like it but i ran into too many issues with the game play visually it is beautiful and i like the arc of the storyline list the [UNK] art [UNK] concept of the game is very well executed the artwork for the locations hidden object games and minigames is beautiful some of the minigames are [UNK] tedious i found three of the minigames to be really cool with rotating elements in offset positions that needed to be aligned carefully some of the hidden object games have bad clues like [UNK] can when it should be [UNK] one of the hidden object games has a [UNK] issue if you are unlucky enough to get an impossible object the bottle in the storage [UNK] some of the hidden object hot spots are very difficult to hit or are in counterintuitive locations relative to the image on the screen [UNK] should issue a patch to address this issue hour glass at the escape pod for example there should be an achievement for finding all of the gold cards but there is not the film [UNK] achievement is broken if you skip the opening video once it logs that against your profile the only way to get the achievement after that is to start a new profile what it should do is clear the flag for having skipped a video when you start the game again with the same profile it also should not count the video in the opening credits towards that achievement who wants to watch that every time they start the game i had a similar issue with [UNK] [UNK] by the same developers list to get through this game and get all of the achievements i had to monitor the [UNK] file and watch whether there was a value of 1 for the [UNK] variable in the active profile i used [UNK] to [UNK] the saves folder so i could [UNK] it from a good location i rate [UNK] hollow [UNK] as 4 out of 10 i would have given it 7 out of 10 had there been no issues given the problems i encountered i do not recommend that you buy this game not at full price not on sale not as an extra in a [UNK] decided to be [UNK] here and recommend this game even though with some [UNK] first of all the game has some great graphics and [UNK] themed in the [UNK] for a hog the puzzles are also very well done the main problem is with the story – it starts well bringing elements of the [UNK] [UNK] theory that was popular in certain occult circles related with nazis however in the second half of the game it gets somewhat [UNK] and confusing and the ending left a feeling that the developers just got bored with this game and cut it short making the good potential of the story utterly wasted disappointing but still well worth playing if you’re a collector of hogs and as i said before the graphics are really cool and at a [UNK] [UNK] came in a [UNK] bundle graphics and story arent bad at all and a couple of puzzles are original main [UNK] are about the help system which helps nothing and a lack of some sort of map to fast travelling to sensible areas sensible objects areas are a bit fuzzy you can find yourself clicking over an object and the game doesnt see your are clicking over it average gamei am a big fan of hog but this game was a [UNK] had the potential to be a great game but a few things screwed it after a while playing the video scenes didnt have a voice anymore atleast we have it written but it felt incomplete the story started interesting even more after you played as another character and learned even more but it got more and more complicated and boring a few ho scenes were buggy where i had to [UNK] few times that it would register but the thing that killed the game for me and stopped me from finishing it was a problem which a few people seem to have the bottle problem in a ho [UNK] you have to find a bottle which isnt that hard to find but it wont register you clicking it even after [UNK] the game i read that it could fix the problem after restarting the game but it is at a part of the game [UNK] you are already far into it around 2 hours playtime [UNK] i dont want to start it from all over again if you dont have the problem and are an [UNK] hunter like me and are lucky that you dont have the bottle problem there is a tricky [UNK] one of the achievments is watching all cutscenes but even if you watch all you wont get it if you skipped even once the intro after [UNK] the game overall had potential but messed up dont buy [UNK] others have said the second half of the game has several bugged minigames which is a great shame as its otherwise one of the better hogs and definitely better than [UNK] usual fare a missed opportunity [UNK] artwork the hidden objects are very easy to find however there were problems with the game music the music can abruptly change or be missing not game breaking but it was odd puzzles there are two major issues first like other hidden object games i have played some puzzles are based on color so for color blind people this can be an obstacle the second is some puzzles appears to be buggy and just did not work it could be that i am just stupid but i did what i think the instructions suggested but nothing happened given the issue i had with buggy puzzle i cannot fully recommend this it is pity since i like the artwork and the music when it worked hopefully their next game will be more [UNK] [UNK] the [UNK] hollow earth is a hidden object puzzle adventure game the game was developed by happy artist and published by [UNK] entertainment [UNK] game [UNK] game visuals i want to mention that the visuals in the game are well done the visuals can be adjusted in the games option menu game audio i want to mention that audio for the game is well done even though the audio is somewhat simplistic and repetitive the audio can be adjusted in the games option menu as well gameplay there are two different difficulty game modes to choose from regular and expert the notebook keeps track of progression in the game such as story events and clues there is no map available in the game plenty of backtracking from location to location there is no [UNK] feature available to lock the inventory panel in place to make it stationary the inventory panel is stationary the hidden object scenes consist of the following shadow items and traditional word lists some of these hidden object scenes may require little or no interaction the puzzles are fairy easy to solve without having the need to skip any of them there is a collectible item in the game golden punch cards they are scattered throughout the game for the player to find there are six different achievements that can be unlocked from playing the game each of these achievements does come with some requirements that need to be completed before they can be unlocked [UNK] there are five different trading cards to collect only three of those trading cards are given out by the game there are several ways to get the rest of the trading cards purchased from the steams community market trade with friends [UNK] packs and its [UNK] pack creator final thoughts i have found the game enjoyable to a certain extent the replay value for the game is low i would recommend this game but not at the games full price [UNK] game has too many issues hence i cannot recommend it first of all the game is so buggy that some puzzles despite you arranging them correctly will need you to restart the game for you to complete them happened to me with the bird mosaic the video achievement is buggy and everytime you open the game you have to watch fully the introduction video in order to get it another major drawback is the repetitive ho scenes that is you keep viewing the same room three times and you keep revisiting the same locations a lot ho objects are reused [UNK] which means you will be looking for the same [UNK] [UNK] sword through many scenes and it gets to a point you [UNK] what doesnt belong to the [UNK] and automatically spot it i do enjoy the art and [UNK] music but i find the story all over the place last but not least if you are going to make game translations and have the game auto detect your language make sure there are no mistakes my polish version had mistakes not only in the story which is we but also in ho scenes and i was looking for ages for [UNK] and googling it which was meant to be [UNK] cute but forgettable hog with a fun premise and decent puzzles worth picking up on [UNK] 810 graphics 810 map no [UNK] classic [UNK] not much puzzles few but sometimes [UNK] bought this on sale as part of a bundle the art style is pretty cool and i really enjoyed the story although it felt like it cut off suddenly at the end will there be more the puzzles and hidden object scenes were well thought out with plenty of variety and not too easy at times however to get the film [UNK] achievement it is best to play the game in one sitting and obviously dont skip scenes i missed it on my first play through and i suspect it was because i skipped the opening scene that automatically plays when i came back to the game even though i had watched it when i initially started the game pick it up even just for the great art [UNK] [UNK] you want to look at some pretty artwork and listen to fairly okay music this is the hog for you if you want polished hog scenes and minigames and a satisfying conclusion its [UNK] of the [UNK] did not work properly and it just ended i finished the last puzzle and nothing straight to credits talk about a [UNK] [UNK] hollow earth [UNK] game good story and easy to [UNK] a quick easy game                                                                                                                                                                                                                                                                                                                                                                                                                                                                                                                                                                                                                                                                                                                                                                                                                                                                                                                                                                                                                                                                                                                                                                                                                                                                                                                                                                                                                                                                                                                                                                                                                                                                                                                                                                                                                                                                                                                                                                                                                                                                                                                                                                                                                                                                                                                                                                                                                                                                                                                                                                                                                                                                                                                                                                                                                                                                                                                                                                                                                                                                                                                                                                                                                                                                                                                                                                              \n",
            "\n",
            "Original:  b\"It's a cute little horror game, don't get me wrong but idk how they think they can charge $10 for this. I got it for $1.04 when it was on sale and I was contemplating requesting a refund because it's a boring version of FNAF.|;|It's not a terrible FNAF-style game but the price is extremely high for what it is|;|AMAZING sit and survive game, i love it!!!! its really fun and the story is great!! it was really easy though, but thats fine.\\r\\ni highly recommend if u love fnaf and it's fan games\\r\\nthough it's base price is pretty high i got it for about 70-90% of that\"\n",
            "Round-trip:  its a cute little horror game dont get me wrong but idk how they think they can charge 10 for this i got it for [UNK] when it was on sale and i was [UNK] requesting a refund because its a boring version of [UNK] not a terrible [UNK] game but the price is extremely high for what it [UNK] sit and survive game i love it its really fun and the story is great it was really easy though but thats fine i highly recommend if u love fnaf and its fan games though its base price is pretty high i got it for about [UNK] of that                                                                                                                                                                                                                                                                                                                                                                                                                                                                                                                                                                                                                                                                                                                                                                                                                                                                                                                                                                                                                                                                                                                                                                                                                                                                                                                                                                                                                                                                                                                                                                                                                                                                                                                                                                                                                                                                                                                                                                                                                                                                                                                                                                                                                                                                                                                                                                                                                                                                                                                                                                                                                                                                                                                                                                                                                                                                                                                                                                                                                                                                                                                                                                                                                                                                                                                                                                                                                                                                                                                                                                                                                                                                                                                                                                                                                                                                                                                                                                                                                                                                                                                                                                                                                                                                                                                                                                                                                                                                                                                                                                                                                                                                                                                                                                                                                                                                                                                                                                                                                                                                                                                                                                                                                                                                                                                                                                                                                                                                                                                                                                                                                                                                                                                                                                                                                                                                                                                                                                                                                                                                                                                                                                                                                                                                                                                                                                                                                                                                                                                                                                                                                   \n",
            "\n"
          ]
        }
      ],
      "source": [
        "for n in range(3):\n",
        "  print(\"Original: \", element['reviews'][n].numpy())\n",
        "  print(\"Round-trip: \", \" \".join(vocab[encoded_example[n]]))\n",
        "  print()"
      ]
    },
    {
      "cell_type": "markdown",
      "metadata": {
        "id": "bjUqGVBxGw-t"
      },
      "source": [
        "## Create the model"
      ]
    },
    {
      "cell_type": "markdown",
      "metadata": {
        "id": "W7zsmInBOCPO"
      },
      "source": [
        "![A drawing of the information flow in the model](https://github.com/tensorflow/text/blob/master/docs/tutorials/images/bidirectional.png?raw=1)"
      ]
    },
    {
      "cell_type": "markdown",
      "metadata": {
        "id": "bgs6nnSTGw-t"
      },
      "source": [
        "Above is a diagram of the model.\n",
        "\n",
        "1. This model can be build as a `tf.keras.Sequential`.\n",
        "\n",
        "2. The first layer is the `encoder`, which converts the text to a sequence of token indices.\n",
        "\n",
        "3. After the encoder is an embedding layer. An embedding layer stores one vector per word. When called, it converts the sequences of word indices to sequences of vectors. These vectors are trainable. After training (on enough data), words with similar meanings often have similar vectors.\n",
        "\n",
        "  This index-lookup is much more efficient than the equivalent operation of passing a one-hot encoded vector through a `tf.keras.layers.Dense` layer.\n",
        "\n",
        "4. A recurrent neural network (RNN) processes sequence input by iterating through the elements. RNNs pass the outputs from one timestep to their input on the next timestep.\n",
        "\n",
        "  The `tf.keras.layers.Bidirectional` wrapper can also be used with an RNN layer. This propagates the input forward and backwards through the RNN layer and then concatenates the final output.\n",
        "\n",
        "  * The main advantage of a bidirectional RNN is that the signal from the beginning of the input doesn't need to be processed all the way through every timestep to affect the output.  \n",
        "\n",
        "  * The main disadvantage of a bidirectional RNN is that you can't efficiently stream predictions as words are being added to the end.\n",
        "\n",
        "5. After the RNN has converted the sequence to a single vector the two `layers.Dense` do some final processing, and convert from this vector representation to a single logit as the classification output.\n"
      ]
    },
    {
      "cell_type": "markdown",
      "metadata": {
        "id": "V4fodCI7soQi"
      },
      "source": [
        "The code to implement this is below:"
      ]
    },
    {
      "cell_type": "code",
      "execution_count": 19,
      "metadata": {
        "id": "LwfoBkmRYcP3",
        "colab": {
          "base_uri": "https://localhost:8080/",
          "height": 257
        },
        "outputId": "2095df7d-bfec-43c1-977f-53d0cfbc41b2"
      },
      "outputs": [
        {
          "output_type": "display_data",
          "data": {
            "text/plain": [
              "\u001b[1mModel: \"sequential_1\"\u001b[0m\n"
            ],
            "text/html": [
              "<pre style=\"white-space:pre;overflow-x:auto;line-height:normal;font-family:Menlo,'DejaVu Sans Mono',consolas,'Courier New',monospace\"><span style=\"font-weight: bold\">Model: \"sequential_1\"</span>\n",
              "</pre>\n"
            ]
          },
          "metadata": {}
        },
        {
          "output_type": "display_data",
          "data": {
            "text/plain": [
              "┏━━━━━━━━━━━━━━━━━━━━━━━━━━━━━━━━━┳━━━━━━━━━━━━━━━━━━━━━━━━┳━━━━━━━━━━━━━━━┓\n",
              "┃\u001b[1m \u001b[0m\u001b[1mLayer (type)                   \u001b[0m\u001b[1m \u001b[0m┃\u001b[1m \u001b[0m\u001b[1mOutput Shape          \u001b[0m\u001b[1m \u001b[0m┃\u001b[1m \u001b[0m\u001b[1m      Param #\u001b[0m\u001b[1m \u001b[0m┃\n",
              "┡━━━━━━━━━━━━━━━━━━━━━━━━━━━━━━━━━╇━━━━━━━━━━━━━━━━━━━━━━━━╇━━━━━━━━━━━━━━━┩\n",
              "│ embedding_2 (\u001b[38;5;33mEmbedding\u001b[0m)         │ ?                      │   \u001b[38;5;34m0\u001b[0m (unbuilt) │\n",
              "├─────────────────────────────────┼────────────────────────┼───────────────┤\n",
              "│ bidirectional_2 (\u001b[38;5;33mBidirectional\u001b[0m) │ ?                      │   \u001b[38;5;34m0\u001b[0m (unbuilt) │\n",
              "├─────────────────────────────────┼────────────────────────┼───────────────┤\n",
              "│ dense_4 (\u001b[38;5;33mDense\u001b[0m)                 │ ?                      │   \u001b[38;5;34m0\u001b[0m (unbuilt) │\n",
              "├─────────────────────────────────┼────────────────────────┼───────────────┤\n",
              "│ dense_5 (\u001b[38;5;33mDense\u001b[0m)                 │ ?                      │   \u001b[38;5;34m0\u001b[0m (unbuilt) │\n",
              "└─────────────────────────────────┴────────────────────────┴───────────────┘\n"
            ],
            "text/html": [
              "<pre style=\"white-space:pre;overflow-x:auto;line-height:normal;font-family:Menlo,'DejaVu Sans Mono',consolas,'Courier New',monospace\">┏━━━━━━━━━━━━━━━━━━━━━━━━━━━━━━━━━┳━━━━━━━━━━━━━━━━━━━━━━━━┳━━━━━━━━━━━━━━━┓\n",
              "┃<span style=\"font-weight: bold\"> Layer (type)                    </span>┃<span style=\"font-weight: bold\"> Output Shape           </span>┃<span style=\"font-weight: bold\">       Param # </span>┃\n",
              "┡━━━━━━━━━━━━━━━━━━━━━━━━━━━━━━━━━╇━━━━━━━━━━━━━━━━━━━━━━━━╇━━━━━━━━━━━━━━━┩\n",
              "│ embedding_2 (<span style=\"color: #0087ff; text-decoration-color: #0087ff\">Embedding</span>)         │ ?                      │   <span style=\"color: #00af00; text-decoration-color: #00af00\">0</span> (unbuilt) │\n",
              "├─────────────────────────────────┼────────────────────────┼───────────────┤\n",
              "│ bidirectional_2 (<span style=\"color: #0087ff; text-decoration-color: #0087ff\">Bidirectional</span>) │ ?                      │   <span style=\"color: #00af00; text-decoration-color: #00af00\">0</span> (unbuilt) │\n",
              "├─────────────────────────────────┼────────────────────────┼───────────────┤\n",
              "│ dense_4 (<span style=\"color: #0087ff; text-decoration-color: #0087ff\">Dense</span>)                 │ ?                      │   <span style=\"color: #00af00; text-decoration-color: #00af00\">0</span> (unbuilt) │\n",
              "├─────────────────────────────────┼────────────────────────┼───────────────┤\n",
              "│ dense_5 (<span style=\"color: #0087ff; text-decoration-color: #0087ff\">Dense</span>)                 │ ?                      │   <span style=\"color: #00af00; text-decoration-color: #00af00\">0</span> (unbuilt) │\n",
              "└─────────────────────────────────┴────────────────────────┴───────────────┘\n",
              "</pre>\n"
            ]
          },
          "metadata": {}
        },
        {
          "output_type": "display_data",
          "data": {
            "text/plain": [
              "\u001b[1m Total params: \u001b[0m\u001b[38;5;34m0\u001b[0m (0.00 B)\n"
            ],
            "text/html": [
              "<pre style=\"white-space:pre;overflow-x:auto;line-height:normal;font-family:Menlo,'DejaVu Sans Mono',consolas,'Courier New',monospace\"><span style=\"font-weight: bold\"> Total params: </span><span style=\"color: #00af00; text-decoration-color: #00af00\">0</span> (0.00 B)\n",
              "</pre>\n"
            ]
          },
          "metadata": {}
        },
        {
          "output_type": "display_data",
          "data": {
            "text/plain": [
              "\u001b[1m Trainable params: \u001b[0m\u001b[38;5;34m0\u001b[0m (0.00 B)\n"
            ],
            "text/html": [
              "<pre style=\"white-space:pre;overflow-x:auto;line-height:normal;font-family:Menlo,'DejaVu Sans Mono',consolas,'Courier New',monospace\"><span style=\"font-weight: bold\"> Trainable params: </span><span style=\"color: #00af00; text-decoration-color: #00af00\">0</span> (0.00 B)\n",
              "</pre>\n"
            ]
          },
          "metadata": {}
        },
        {
          "output_type": "display_data",
          "data": {
            "text/plain": [
              "\u001b[1m Non-trainable params: \u001b[0m\u001b[38;5;34m0\u001b[0m (0.00 B)\n"
            ],
            "text/html": [
              "<pre style=\"white-space:pre;overflow-x:auto;line-height:normal;font-family:Menlo,'DejaVu Sans Mono',consolas,'Courier New',monospace\"><span style=\"font-weight: bold\"> Non-trainable params: </span><span style=\"color: #00af00; text-decoration-color: #00af00\">0</span> (0.00 B)\n",
              "</pre>\n"
            ]
          },
          "metadata": {}
        }
      ],
      "source": [
        "model = tf.keras.Sequential([\n",
        "    tf.keras.layers.Embedding(\n",
        "        input_dim=len(encoder.get_vocabulary()),\n",
        "        output_dim=32,\n",
        "        # Use masking to handle the variable sequence lengths\n",
        "        mask_zero=False),\n",
        "    tf.keras.layers.Bidirectional(tf.keras.layers.LSTM(32)), #changed from 64\n",
        "    tf.keras.layers.Dense(32, activation='sigmoid'),\n",
        "    tf.keras.layers.Dense(3, activation='sigmoid') #scale to number of outputs\n",
        "])\n",
        "\n",
        "# Summary of the model\n",
        "model.summary()\n",
        "\n",
        "#https://www.tensorflow.org/tutorials/structured_data/imbalanced_data\n",
        "METRICS = [\n",
        "      tf.keras.metrics.BinaryCrossentropy(name='cross entropy'),  # same as model's loss\n",
        "      tf.keras.metrics.MeanSquaredError(name='Brier score'),\n",
        "      tf.keras.metrics.TruePositives(name='tp'),\n",
        "      tf.keras.metrics.FalsePositives(name='fp'),\n",
        "      tf.keras.metrics.TrueNegatives(name='tn'),\n",
        "      tf.keras.metrics.FalseNegatives(name='fn'),\n",
        "      tf.keras.metrics.BinaryAccuracy(name='accuracy'),\n",
        "      tf.keras.metrics.Precision(name='precision'),\n",
        "      tf.keras.metrics.Recall(name='recall'),\n",
        "      tf.keras.metrics.AUC(name='auc'),\n",
        "      tf.keras.metrics.AUC(name='prc', curve='PR'), # precision-recall curve\n",
        "]\n",
        "# Compile the model\n",
        "model.compile(\n",
        "    loss=tf.keras.losses.BinaryCrossentropy(from_logits=True),\n",
        "    optimizer=tf.keras.optimizers.Adam(),\n",
        "    metrics=['accuracy']\n",
        ")"
      ]
    },
    {
      "cell_type": "markdown",
      "metadata": {
        "id": "QIGmIGkkouUb"
      },
      "source": [
        "Please note that Keras sequential model is used here since all the layers in the model only have single input and produce single output. In case you want to use stateful RNN layer, you might want to build your model with Keras functional API or model subclassing so that you can retrieve and reuse the RNN layer states. Please check [Keras RNN guide](https://www.tensorflow.org/guide/keras/rnn#rnn_state_reuse) for more details."
      ]
    },
    {
      "cell_type": "markdown",
      "metadata": {
        "id": "kF-PsCk1LwjY"
      },
      "source": [
        "The embedding layer [uses masking](https://www.tensorflow.org/guide/keras/masking_and_padding) to handle the varying sequence-lengths. All the layers after the `Embedding` support masking:"
      ]
    },
    {
      "cell_type": "code",
      "execution_count": 15,
      "metadata": {
        "id": "87a8-CwfKebw",
        "colab": {
          "base_uri": "https://localhost:8080/"
        },
        "outputId": "1fdc61fe-0637-430b-9794-ad06424edb79"
      },
      "outputs": [
        {
          "output_type": "stream",
          "name": "stdout",
          "text": [
            "[False, True, True, True]\n"
          ]
        }
      ],
      "source": [
        "print([layer.supports_masking for layer in model.layers])"
      ]
    },
    {
      "cell_type": "markdown",
      "metadata": {
        "id": "ZlS0iaUIWLpI"
      },
      "source": [
        "To confirm that this works as expected, evaluate a sentence twice. First, alone so there's no padding to mask:"
      ]
    },
    {
      "cell_type": "code",
      "execution_count": 16,
      "metadata": {
        "id": "O41gw3KfWHus",
        "colab": {
          "base_uri": "https://localhost:8080/"
        },
        "outputId": "7a599a3b-5467-4cc3-d9f4-636d90d3c2a1"
      },
      "outputs": [
        {
          "output_type": "stream",
          "name": "stdout",
          "text": [
            "\u001b[1m1/1\u001b[0m \u001b[32m━━━━━━━━━━━━━━━━━━━━\u001b[0m\u001b[37m\u001b[0m \u001b[1m1s\u001b[0m 1s/step\n",
            "[ 0.73735636 -0.07296473  0.07111776]\n"
          ]
        }
      ],
      "source": [
        "# predict on a sample text without padding.\n",
        "\n",
        "sample_text = \"The game was cool. The animation and the graphics were out of this world. I would recommend this game.\"\n",
        "encoded_example = encoder(sample_text)\n",
        "\n",
        "# The Embedding layer expects a batch dimension, even for a single sample\n",
        "encoded_example = tf.expand_dims(encoded_example, axis=0)\n",
        "\n",
        "# Exapanded layers to see output\n",
        "layer2 = tf.keras.layers.Embedding(len(encoder.get_vocabulary()), 64, mask_zero=True)\n",
        "layer2_output = layer2(encoded_example)\n",
        "\n",
        "layer3 = tf.keras.layers.Bidirectional(tf.keras.layers.LSTM(64))\n",
        "layer3_output = layer3(layer2_output)\n",
        "\n",
        "layer4 = tf.keras.layers.Dense(64, activation='relu')\n",
        "layer4_output = layer4(layer3_output)\n",
        "\n",
        "layer5 = tf.keras.layers.Dense(1)\n",
        "layer5_output = layer5(layer4_output)\n",
        "\n",
        "predictions = model.predict(encoded_example)\n",
        "print(predictions[0])"
      ]
    },
    {
      "cell_type": "markdown",
      "metadata": {
        "id": "K0VQmGnEWcuz"
      },
      "source": [
        "Now, evaluate it again in a batch with a longer sentence. The result should be identical:"
      ]
    },
    {
      "cell_type": "code",
      "execution_count": 17,
      "metadata": {
        "id": "UIgpuTeFNDzq",
        "colab": {
          "base_uri": "https://localhost:8080/"
        },
        "outputId": "5ab8a3ef-dc58-4e1f-918a-d79fc1fb9fa0"
      },
      "outputs": [
        {
          "output_type": "stream",
          "name": "stdout",
          "text": [
            "\u001b[1m1/1\u001b[0m \u001b[32m━━━━━━━━━━━━━━━━━━━━\u001b[0m\u001b[37m\u001b[0m \u001b[1m0s\u001b[0m 30ms/step\n",
            "[ 0.73735636 -0.07296473  0.07111776]\n"
          ]
        }
      ],
      "source": [
        "# predict on a sample text with padding\n",
        "\n",
        "padding = \"the \" * 2000\n",
        "encoded_padding = tf.expand_dims(encoder(padding), axis=0)\n",
        "\n",
        "predictions = model.predict(encoded_example)\n",
        "print(predictions[0])"
      ]
    },
    {
      "cell_type": "markdown",
      "metadata": {
        "id": "zIwH3nto596k"
      },
      "source": [
        "## Train the model"
      ]
    },
    {
      "cell_type": "code",
      "execution_count": 20,
      "metadata": {
        "id": "hw86wWS4YgR2",
        "colab": {
          "base_uri": "https://localhost:8080/"
        },
        "outputId": "da2e1d1b-84a4-4274-8b0b-599b147f3584"
      },
      "outputs": [
        {
          "output_type": "stream",
          "name": "stdout",
          "text": [
            "Epoch 1/10\n"
          ]
        },
        {
          "output_type": "stream",
          "name": "stderr",
          "text": [
            "/usr/local/lib/python3.12/dist-packages/keras/src/backend/tensorflow/nn.py:789: UserWarning: \"`binary_crossentropy` received `from_logits=True`, but the `output` argument was produced by a Sigmoid activation and thus does not represent logits. Was this intended?\n",
            "  output, from_logits = _get_logits(\n"
          ]
        },
        {
          "output_type": "stream",
          "name": "stdout",
          "text": [
            "\u001b[1m97/97\u001b[0m \u001b[32m━━━━━━━━━━━━━━━━━━━━\u001b[0m\u001b[37m\u001b[0m \u001b[1m85s\u001b[0m 849ms/step - accuracy: 0.8478 - loss: 0.6598 - val_accuracy: 0.8349 - val_loss: 0.6502\n",
            "Epoch 2/10\n",
            "\u001b[1m97/97\u001b[0m \u001b[32m━━━━━━━━━━━━━━━━━━━━\u001b[0m\u001b[37m\u001b[0m \u001b[1m83s\u001b[0m 857ms/step - accuracy: 0.8500 - loss: 0.6451 - val_accuracy: 0.8349 - val_loss: 0.6440\n",
            "Epoch 3/10\n",
            "\u001b[1m97/97\u001b[0m \u001b[32m━━━━━━━━━━━━━━━━━━━━\u001b[0m\u001b[37m\u001b[0m \u001b[1m82s\u001b[0m 849ms/step - accuracy: 0.8465 - loss: 0.6293 - val_accuracy: 0.8349 - val_loss: 0.6015\n",
            "Epoch 4/10\n",
            "\u001b[1m97/97\u001b[0m \u001b[32m━━━━━━━━━━━━━━━━━━━━\u001b[0m\u001b[37m\u001b[0m \u001b[1m82s\u001b[0m 852ms/step - accuracy: 0.8232 - loss: 0.5875 - val_accuracy: 0.7901 - val_loss: 0.5489\n",
            "Epoch 5/10\n",
            "\u001b[1m97/97\u001b[0m \u001b[32m━━━━━━━━━━━━━━━━━━━━\u001b[0m\u001b[37m\u001b[0m \u001b[1m84s\u001b[0m 865ms/step - accuracy: 0.7312 - loss: 0.5399 - val_accuracy: 0.7464 - val_loss: 0.5004\n",
            "Epoch 6/10\n",
            "\u001b[1m97/97\u001b[0m \u001b[32m━━━━━━━━━━━━━━━━━━━━\u001b[0m\u001b[37m\u001b[0m \u001b[1m81s\u001b[0m 838ms/step - accuracy: 0.6591 - loss: 0.4873 - val_accuracy: 0.6344 - val_loss: 0.4460\n",
            "Epoch 7/10\n",
            "\u001b[1m97/97\u001b[0m \u001b[32m━━━━━━━━━━━━━━━━━━━━\u001b[0m\u001b[37m\u001b[0m \u001b[1m84s\u001b[0m 868ms/step - accuracy: 0.6033 - loss: 0.4340 - val_accuracy: 0.5839 - val_loss: 0.4017\n",
            "Epoch 8/10\n",
            "\u001b[1m97/97\u001b[0m \u001b[32m━━━━━━━━━━━━━━━━━━━━\u001b[0m\u001b[37m\u001b[0m \u001b[1m82s\u001b[0m 843ms/step - accuracy: 0.5921 - loss: 0.3950 - val_accuracy: 0.6401 - val_loss: 0.3779\n",
            "Epoch 9/10\n",
            "\u001b[1m97/97\u001b[0m \u001b[32m━━━━━━━━━━━━━━━━━━━━\u001b[0m\u001b[37m\u001b[0m \u001b[1m142s\u001b[0m 1s/step - accuracy: 0.5816 - loss: 0.3563 - val_accuracy: 0.5896 - val_loss: 0.3468\n",
            "Epoch 10/10\n",
            "\u001b[1m97/97\u001b[0m \u001b[32m━━━━━━━━━━━━━━━━━━━━\u001b[0m\u001b[37m\u001b[0m \u001b[1m80s\u001b[0m 830ms/step - accuracy: 0.5636 - loss: 0.3240 - val_accuracy: 0.5318 - val_loss: 0.2934\n"
          ]
        }
      ],
      "source": [
        "encoded_train_dataset = tf_train_dataset.map(lambda x: (encoder(x['reviews']), tf.stack([x['Indie'], x['Casual'], x['Adventure']], axis=-1)))\n",
        "encoded_test_dataset = tf_test_dataset.map(lambda x: (encoder(x['reviews']), tf.stack([x['Indie'], x['Casual'], x['Adventure']], axis=-1)))\n",
        "\n",
        "history = model.fit(encoded_train_dataset, epochs=10,\n",
        "                    validation_data=encoded_test_dataset,\n",
        "                    validation_steps=30)"
      ]
    },
    {
      "cell_type": "code",
      "execution_count": 21,
      "metadata": {
        "id": "BaNbXi43YgUT",
        "colab": {
          "base_uri": "https://localhost:8080/"
        },
        "outputId": "8525701e-97c1-4f1c-f1ea-3ac6b38642df"
      },
      "outputs": [
        {
          "output_type": "stream",
          "name": "stdout",
          "text": [
            "\u001b[1m97/97\u001b[0m \u001b[32m━━━━━━━━━━━━━━━━━━━━\u001b[0m\u001b[37m\u001b[0m \u001b[1m33s\u001b[0m 342ms/step - accuracy: 0.5336 - loss: 0.2875\n",
            "Test Loss: 0.2864743173122406\n",
            "Test Accuracy: 0.529591977596283\n"
          ]
        }
      ],
      "source": [
        "test_loss, test_acc = model.evaluate(encoded_test_dataset)\n",
        "true_positives = tf.keras.metrics.TruePositives()\n",
        "true_negatives = 0\n",
        "false_positives = 0\n",
        "false_negatives = 0\n",
        "\n",
        "print('Test Loss:', test_loss)\n",
        "print('Test Accuracy:', test_acc)"
      ]
    },
    {
      "cell_type": "code",
      "execution_count": 22,
      "metadata": {
        "id": "OZmwt_mzaQJk",
        "colab": {
          "base_uri": "https://localhost:8080/",
          "height": 551
        },
        "outputId": "89b2b68c-4085-44dc-d983-0cf60c69025c"
      },
      "outputs": [
        {
          "output_type": "execute_result",
          "data": {
            "text/plain": [
              "(0.0, 0.6693141058087348)"
            ]
          },
          "metadata": {},
          "execution_count": 22
        },
        {
          "output_type": "display_data",
          "data": {
            "text/plain": [
              "<Figure size 1600x800 with 2 Axes>"
            ],
            "image/png": "[encoded data removed]"
          },
          "metadata": {}
        }
      ],
      "source": [
        "plt.figure(figsize=(16, 8))\n",
        "plt.subplot(1, 2, 1)\n",
        "plot_graphs(history, 'accuracy')\n",
        "plt.ylim(None, 1)\n",
        "plt.subplot(1, 2, 2)\n",
        "plot_graphs(history, 'loss')\n",
        "plt.ylim(0, None)"
      ]
    },
    {
      "cell_type": "markdown",
      "metadata": {
        "id": "DwSE_386uhxD"
      },
      "source": [
        "Run a prediction on a new sentence:\n",
        "\n",
        "If the prediction is >= 0.0, it is positive else it is negative."
      ]
    },
    {
      "cell_type": "code",
      "execution_count": 23,
      "metadata": {
        "id": "ZXgfQSgRW6zU",
        "colab": {
          "base_uri": "https://localhost:8080/"
        },
        "outputId": "7a21e9aa-750b-418d-cb09-e59c88b9482e"
      },
      "outputs": [
        {
          "output_type": "stream",
          "name": "stdout",
          "text": [
            "\u001b[1m1/1\u001b[0m \u001b[32m━━━━━━━━━━━━━━━━━━━━\u001b[0m\u001b[37m\u001b[0m \u001b[1m0s\u001b[0m 170ms/step\n",
            "[[0.8182237 0.8900783 0.7179658]]\n",
            "\u001b[1m1/1\u001b[0m \u001b[32m━━━━━━━━━━━━━━━━━━━━\u001b[0m\u001b[37m\u001b[0m \u001b[1m0s\u001b[0m 182ms/step\n",
            "[[0.80802184 0.8545601  0.80518436]]\n",
            "\u001b[1m1/1\u001b[0m \u001b[32m━━━━━━━━━━━━━━━━━━━━\u001b[0m\u001b[37m\u001b[0m \u001b[1m0s\u001b[0m 28ms/step\n",
            "[[0.87624866 0.90379727 0.37501472]]\n"
          ]
        }
      ],
      "source": [
        "sample_text = ('This indie game was cool. The animation and the graphics '\n",
        "               'were out of this world. I would recommend this game.')\n",
        "encoded_example = encoder(sample_text)\n",
        "\n",
        "# The Embedding layer expects a batch dimension, even for a single sample\n",
        "encoded_example = tf.expand_dims(encoded_example, axis=0)\n",
        "predictions = model.predict(encoded_example)\n",
        "print(predictions)\n",
        "\n",
        "sample_text = ('This game was cool. The animation and the graphics '\n",
        "               'were out of this world. I would recommend this game.')\n",
        "encoded_example = encoder(sample_text)\n",
        "\n",
        "# The Embedding layer expects a batch dimension, even for a single sample\n",
        "encoded_example = tf.expand_dims(encoded_example, axis=0)\n",
        "predictions = model.predict(encoded_example)\n",
        "print(predictions)\n",
        "\n",
        "sample_text = ('This game was not cool. The animation and the graphics '\n",
        "               'were basic, cheap. I would not recommend this game.')\n",
        "encoded_example = encoder(sample_text)\n",
        "\n",
        "# The Embedding layer expects a batch dimension, even for a single sample\n",
        "encoded_example = tf.expand_dims(encoded_example, axis=0)\n",
        "predictions = model.predict(encoded_example)\n",
        "print(predictions)"
      ]
    },
    {
      "cell_type": "markdown",
      "metadata": {
        "id": "7g1evcaRpTKm"
      },
      "source": [
        "## Stack two or more LSTM layers\n",
        "\n",
        "Keras recurrent layers have two available modes that are controlled by the `return_sequences` constructor argument:\n",
        "\n",
        "* If `False` it returns only the last output for each input sequence (a 2D tensor of shape (batch_size, output_features)). This is the default, used in the previous model.\n",
        "\n",
        "* If `True` the full sequences of successive outputs for each timestep is returned (a 3D tensor of shape `(batch_size, timesteps, output_features)`).\n",
        "\n",
        "Here is what the flow of information looks like with `return_sequences=True`:\n",
        "\n",
        "![layered_bidirectional](https://github.com/tensorflow/text/blob/master/docs/tutorials/images/layered_bidirectional.png?raw=1)"
      ]
    },
    {
      "cell_type": "markdown",
      "metadata": {
        "id": "wbSClCrG1z8l"
      },
      "source": [
        "The interesting thing about using an `RNN` with `return_sequences=True` is that the output still has 3-axes, like the input, so it can be passed to another RNN layer, like this:"
      ]
    },
    {
      "cell_type": "code",
      "execution_count": null,
      "metadata": {
        "id": "jo1jjO3vn0jo",
        "colab": {
          "base_uri": "https://localhost:8080/",
          "height": 211
        },
        "outputId": "4550d7a4-3cc0-4bc5-8f09-9e9481b2e29f"
      },
      "outputs": [
        {
          "output_type": "error",
          "ename": "NameError",
          "evalue": "name 'tf' is not defined",
          "traceback": [
            "\u001b[0;31m---------------------------------------------------------------------------\u001b[0m",
            "\u001b[0;31mNameError\u001b[0m                                 Traceback (most recent call last)",
            "\u001b[0;32m/tmp/ipython-input-3992229248.py\u001b[0m in \u001b[0;36m<cell line: 0>\u001b[0;34m()\u001b[0m\n\u001b[0;32m----> 1\u001b[0;31m model = tf.keras.Sequential([\n\u001b[0m\u001b[1;32m      2\u001b[0m     \u001b[0mtf\u001b[0m\u001b[0;34m.\u001b[0m\u001b[0mkeras\u001b[0m\u001b[0;34m.\u001b[0m\u001b[0mlayers\u001b[0m\u001b[0;34m.\u001b[0m\u001b[0mEmbedding\u001b[0m\u001b[0;34m(\u001b[0m\u001b[0mlen\u001b[0m\u001b[0;34m(\u001b[0m\u001b[0mencoder\u001b[0m\u001b[0;34m.\u001b[0m\u001b[0mget_vocabulary\u001b[0m\u001b[0;34m(\u001b[0m\u001b[0;34m)\u001b[0m\u001b[0;34m)\u001b[0m\u001b[0;34m,\u001b[0m \u001b[0;36m64\u001b[0m\u001b[0;34m,\u001b[0m \u001b[0mmask_zero\u001b[0m\u001b[0;34m=\u001b[0m\u001b[0;32mFalse\u001b[0m\u001b[0;34m)\u001b[0m\u001b[0;34m,\u001b[0m\u001b[0;34m\u001b[0m\u001b[0;34m\u001b[0m\u001b[0m\n\u001b[1;32m      3\u001b[0m     \u001b[0mtf\u001b[0m\u001b[0;34m.\u001b[0m\u001b[0mkeras\u001b[0m\u001b[0;34m.\u001b[0m\u001b[0mlayers\u001b[0m\u001b[0;34m.\u001b[0m\u001b[0mBidirectional\u001b[0m\u001b[0;34m(\u001b[0m\u001b[0mtf\u001b[0m\u001b[0;34m.\u001b[0m\u001b[0mkeras\u001b[0m\u001b[0;34m.\u001b[0m\u001b[0mlayers\u001b[0m\u001b[0;34m.\u001b[0m\u001b[0mLSTM\u001b[0m\u001b[0;34m(\u001b[0m\u001b[0;36m32\u001b[0m\u001b[0;34m,\u001b[0m  \u001b[0mreturn_sequences\u001b[0m\u001b[0;34m=\u001b[0m\u001b[0;32mTrue\u001b[0m\u001b[0;34m,\u001b[0m \u001b[0muse_cudnn\u001b[0m\u001b[0;34m=\u001b[0m\u001b[0;32mFalse\u001b[0m\u001b[0;34m)\u001b[0m\u001b[0;34m)\u001b[0m\u001b[0;34m,\u001b[0m\u001b[0;34m\u001b[0m\u001b[0;34m\u001b[0m\u001b[0m\n\u001b[1;32m      4\u001b[0m     \u001b[0mtf\u001b[0m\u001b[0;34m.\u001b[0m\u001b[0mkeras\u001b[0m\u001b[0;34m.\u001b[0m\u001b[0mlayers\u001b[0m\u001b[0;34m.\u001b[0m\u001b[0mBidirectional\u001b[0m\u001b[0;34m(\u001b[0m\u001b[0mtf\u001b[0m\u001b[0;34m.\u001b[0m\u001b[0mkeras\u001b[0m\u001b[0;34m.\u001b[0m\u001b[0mlayers\u001b[0m\u001b[0;34m.\u001b[0m\u001b[0mLSTM\u001b[0m\u001b[0;34m(\u001b[0m\u001b[0;36m32\u001b[0m\u001b[0;34m,\u001b[0m \u001b[0muse_cudnn\u001b[0m\u001b[0;34m=\u001b[0m\u001b[0;32mFalse\u001b[0m\u001b[0;34m)\u001b[0m\u001b[0;34m)\u001b[0m\u001b[0;34m,\u001b[0m\u001b[0;34m\u001b[0m\u001b[0;34m\u001b[0m\u001b[0m\n\u001b[1;32m      5\u001b[0m     \u001b[0mtf\u001b[0m\u001b[0;34m.\u001b[0m\u001b[0mkeras\u001b[0m\u001b[0;34m.\u001b[0m\u001b[0mlayers\u001b[0m\u001b[0;34m.\u001b[0m\u001b[0mDense\u001b[0m\u001b[0;34m(\u001b[0m\u001b[0;36m32\u001b[0m\u001b[0;34m,\u001b[0m \u001b[0mactivation\u001b[0m\u001b[0;34m=\u001b[0m\u001b[0;34m'relu'\u001b[0m\u001b[0;34m)\u001b[0m\u001b[0;34m,\u001b[0m\u001b[0;34m\u001b[0m\u001b[0;34m\u001b[0m\u001b[0m\n",
            "\u001b[0;31mNameError\u001b[0m: name 'tf' is not defined"
          ]
        }
      ],
      "source": [
        "model = tf.keras.Sequential([\n",
        "    tf.keras.layers.Embedding(len(encoder.get_vocabulary()), 64, mask_zero=False),\n",
        "    tf.keras.layers.Bidirectional(tf.keras.layers.LSTM(32,  return_sequences=True, use_cudnn=False)),\n",
        "    tf.keras.layers.Bidirectional(tf.keras.layers.LSTM(32, use_cudnn=False)),\n",
        "    tf.keras.layers.Dense(32, activation='relu'),\n",
        "    tf.keras.layers.Dropout(0.5),\n",
        "    tf.keras.layers.Dense(1)\n",
        "])"
      ]
    },
    {
      "cell_type": "code",
      "execution_count": null,
      "metadata": {
        "id": "hEPV5jVGp-is"
      },
      "outputs": [],
      "source": [
        "model.compile(loss=tf.keras.losses.BinaryCrossentropy(from_logits=True),\n",
        "              optimizer=tf.keras.optimizers.Adam(1e-4),\n",
        "              metrics=['accuracy'])"
      ]
    },
    {
      "cell_type": "code",
      "execution_count": null,
      "metadata": {
        "id": "LeSE-YjdqAeN",
        "colab": {
          "base_uri": "https://localhost:8080/"
        },
        "outputId": "07c1b1a8-cefb-44fd-bc40-bc5d111ef0ab"
      },
      "outputs": [
        {
          "output_type": "stream",
          "name": "stdout",
          "text": [
            "Epoch 1/10\n",
            "\u001b[1m460/460\u001b[0m \u001b[32m━━━━━━━━━━━━━━━━━━━━\u001b[0m\u001b[37m\u001b[0m \u001b[1m46s\u001b[0m 87ms/step - accuracy: 0.5764 - loss: 0.5984 - val_accuracy: 0.8188 - val_loss: 0.4095\n",
            "Epoch 2/10\n",
            "\u001b[1m460/460\u001b[0m \u001b[32m━━━━━━━━━━━━━━━━━━━━\u001b[0m\u001b[37m\u001b[0m \u001b[1m41s\u001b[0m 89ms/step - accuracy: 0.8313 - loss: 0.3805 - val_accuracy: 0.8630 - val_loss: 0.2952\n",
            "Epoch 3/10\n",
            "\u001b[1m460/460\u001b[0m \u001b[32m━━━━━━━━━━━━━━━━━━━━\u001b[0m\u001b[37m\u001b[0m \u001b[1m82s\u001b[0m 178ms/step - accuracy: 0.8739 - loss: 0.3038 - val_accuracy: 0.9104 - val_loss: 0.2654\n",
            "Epoch 4/10\n",
            "\u001b[1m460/460\u001b[0m \u001b[32m━━━━━━━━━━━━━━━━━━━━\u001b[0m\u001b[37m\u001b[0m \u001b[1m41s\u001b[0m 89ms/step - accuracy: 0.8984 - loss: 0.2607 - val_accuracy: 0.9234 - val_loss: 0.2080\n",
            "Epoch 5/10\n",
            "\u001b[1m460/460\u001b[0m \u001b[32m━━━━━━━━━━━━━━━━━━━━\u001b[0m\u001b[37m\u001b[0m \u001b[1m41s\u001b[0m 88ms/step - accuracy: 0.9133 - loss: 0.2291 - val_accuracy: 0.9089 - val_loss: 0.2612\n",
            "Epoch 6/10\n",
            "\u001b[1m460/460\u001b[0m \u001b[32m━━━━━━━━━━━━━━━━━━━━\u001b[0m\u001b[37m\u001b[0m \u001b[1m41s\u001b[0m 89ms/step - accuracy: 0.9064 - loss: 0.2487 - val_accuracy: 0.9245 - val_loss: 0.1864\n",
            "Epoch 7/10\n",
            "\u001b[1m460/460\u001b[0m \u001b[32m━━━━━━━━━━━━━━━━━━━━\u001b[0m\u001b[37m\u001b[0m \u001b[1m40s\u001b[0m 87ms/step - accuracy: 0.9272 - loss: 0.1961 - val_accuracy: 0.9427 - val_loss: 0.1662\n",
            "Epoch 8/10\n",
            "\u001b[1m460/460\u001b[0m \u001b[32m━━━━━━━━━━━━━━━━━━━━\u001b[0m\u001b[37m\u001b[0m \u001b[1m41s\u001b[0m 87ms/step - accuracy: 0.9351 - loss: 0.1858 - val_accuracy: 0.9464 - val_loss: 0.1468\n",
            "Epoch 9/10\n",
            "\u001b[1m460/460\u001b[0m \u001b[32m━━━━━━━━━━━━━━━━━━━━\u001b[0m\u001b[37m\u001b[0m \u001b[1m40s\u001b[0m 88ms/step - accuracy: 0.9383 - loss: 0.1741 - val_accuracy: 0.9104 - val_loss: 0.2506\n",
            "Epoch 10/10\n",
            "\u001b[1m460/460\u001b[0m \u001b[32m━━━━━━━━━━━━━━━━━━━━\u001b[0m\u001b[37m\u001b[0m \u001b[1m40s\u001b[0m 87ms/step - accuracy: 0.9303 - loss: 0.1906 - val_accuracy: 0.9531 - val_loss: 0.1502\n"
          ]
        }
      ],
      "source": [
        "history = model.fit(encoded_train_dataset, epochs=10,\n",
        "                    validation_data=encoded_test_dataset,\n",
        "                    validation_steps=30)"
      ]
    },
    {
      "cell_type": "code",
      "execution_count": null,
      "metadata": {
        "id": "_LdwilM1qPM3",
        "colab": {
          "base_uri": "https://localhost:8080/"
        },
        "outputId": "11648dbc-d910-42f5-a9fb-89f5c64e0da0"
      },
      "outputs": [
        {
          "output_type": "stream",
          "name": "stdout",
          "text": [
            "\u001b[1m460/460\u001b[0m \u001b[32m━━━━━━━━━━━━━━━━━━━━\u001b[0m\u001b[37m\u001b[0m \u001b[1m17s\u001b[0m 38ms/step - accuracy: 0.9471 - loss: 0.1625\n",
            "Test Loss: 0.16997113823890686\n",
            "Test Accuracy: 0.9440195560455322\n"
          ]
        }
      ],
      "source": [
        "test_loss, test_acc = model.evaluate(encoded_test_dataset)\n",
        "\n",
        "print('Test Loss:', test_loss)\n",
        "print('Test Accuracy:', test_acc)"
      ]
    },
    {
      "cell_type": "code",
      "execution_count": null,
      "metadata": {
        "id": "ykUKnAoqbycW",
        "colab": {
          "base_uri": "https://localhost:8080/"
        },
        "outputId": "cd22bef0-2cfe-4da7-8780-cce85cff4607"
      },
      "outputs": [
        {
          "output_type": "stream",
          "name": "stdout",
          "text": [
            "\u001b[1m1/1\u001b[0m \u001b[32m━━━━━━━━━━━━━━━━━━━━\u001b[0m\u001b[37m\u001b[0m \u001b[1m0s\u001b[0m 420ms/step\n",
            "[[-2.170004]]\n"
          ]
        }
      ],
      "source": [
        "# predict on a sample text without padding.\n",
        "\n",
        "sample_text = ('The movie was not good. The animation and the graphics '\n",
        "               'were terrible. I would not recommend this movie.')\n",
        "encoded_example = encoder(sample_text)\n",
        "\n",
        "# The Embedding layer expects a batch dimension, even for a single sample\n",
        "encoded_example = tf.expand_dims(encoded_example, axis=0)\n",
        "predictions = model.predict(encoded_example)\n",
        "print(predictions)"
      ]
    },
    {
      "cell_type": "code",
      "execution_count": null,
      "metadata": {
        "id": "_YYub0EDtwCu",
        "colab": {
          "base_uri": "https://localhost:8080/",
          "height": 454
        },
        "outputId": "507f3897-0238-45d1-f0ca-0c76e9642a37"
      },
      "outputs": [
        {
          "output_type": "display_data",
          "data": {
            "text/plain": [
              "<Figure size 1600x600 with 2 Axes>"
            ],
            "image/png": "[encoded data removed]"
          },
          "metadata": {}
        }
      ],
      "source": [
        "plt.figure(figsize=(16, 6))\n",
        "plt.subplot(1, 2, 1)\n",
        "plot_graphs(history, 'accuracy')\n",
        "plt.subplot(1, 2, 2)\n",
        "plot_graphs(history, 'loss')"
      ]
    },
    {
      "cell_type": "markdown",
      "metadata": {
        "id": "9xvpE3BaGw_V"
      },
      "source": [
        "Check out other existing recurrent layers such as [GRU layers](https://www.tensorflow.org/api_docs/python/tf/keras/layers/GRU).\n",
        "\n",
        "If you're interested in building custom RNNs, see the [Keras RNN Guide](https://www.tensorflow.org/guide/keras/rnn).\n"
      ]
    }
  ],
  "metadata": {
    "accelerator": "GPU",
    "colab": {
      "name": "text_classification_rnn.ipynb",
      "provenance": [],
      "gpuType": "T4"
    },
    "kernelspec": {
      "display_name": "Python 3",
      "name": "python3"
    }
  },
  "nbformat": 4,
  "nbformat_minor": 0
}